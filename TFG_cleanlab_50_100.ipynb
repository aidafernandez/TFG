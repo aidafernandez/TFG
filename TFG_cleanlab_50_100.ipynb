{
 "cells": [
  {
   "cell_type": "markdown",
   "id": "f523d167",
   "metadata": {
    "id": "comfortable-avenue"
   },
   "source": [
    "## Packages"
   ]
  },
  {
   "cell_type": "code",
   "execution_count": 2,
   "id": "7b1231d0",
   "metadata": {
    "id": "blond-ceramic",
    "scrolled": true
   },
   "outputs": [],
   "source": [
    "import pandas as pd\n",
    "\n",
    "import numpy as np\n",
    "\n",
    "import matplotlib.pyplot as plt\n",
    "\n",
    "import os\n",
    "\n",
    "import collections\n",
    "import random\n",
    "\n",
    "import tensorflow as tf\n",
    "from tensorflow import keras\n",
    "from tensorflow.keras import layers\n",
    "from tensorflow.keras.preprocessing.image import load_img\n",
    "\n",
    "import keras\n",
    "from keras.models import Sequential,Input,Model\n",
    "from keras.layers import Dense, Dropout, Flatten\n",
    "from keras.layers import Conv2D, MaxPooling2D\n",
    "from keras.layers.normalization import BatchNormalization\n",
    "from keras.layers.advanced_activations import LeakyReLU\n",
    "from sklearn.model_selection import StratifiedKFold\n",
    "from tensorflow.keras.layers.experimental.preprocessing import Rescaling\n",
    "\n",
    "from sklearn.model_selection import train_test_split\n",
    "from sklearn.metrics import classification_report\n",
    "from sklearn.metrics import confusion_matrix\n",
    "\n",
    "import cleanlab\n",
    "from cleanlab.noise_generation import generate_noisy_labels\n",
    "from cleanlab.util import print_noise_matrix\n",
    "from cleanlab import baseline_methods\n",
    "from cleanlab.latent_estimation import compute_confident_joint\n",
    "from cleanlab import baseline_methods\n",
    "from cleanlab.latent_estimation import compute_confident_joint"
   ]
  },
  {
   "cell_type": "code",
   "execution_count": 3,
   "id": "e1f9e7a3",
   "metadata": {},
   "outputs": [],
   "source": [
    "def plot_confusion_matrix(cm,\n",
    "                          target_names,\n",
    "                          title='Confusion matrix',\n",
    "                          cmap=None,\n",
    "                          normalize=True):\n",
    "    \"\"\"\n",
    "    given a sklearn confusion matrix (cm), make a nice plot\n",
    "\n",
    "    Arguments\n",
    "    ---------\n",
    "    cm:           confusion matrix from sklearn.metrics.confusion_matrix\n",
    "\n",
    "    target_names: given classification classes such as [0, 1, 2]\n",
    "                  the class names, for example: ['high', 'medium', 'low']\n",
    "\n",
    "    title:        the text to display at the top of the matrix\n",
    "\n",
    "    cmap:         the gradient of the values displayed from matplotlib.pyplot.cm\n",
    "                  see http://matplotlib.org/examples/color/colormaps_reference.html\n",
    "                  plt.get_cmap('jet') or plt.cm.Blues\n",
    "\n",
    "    normalize:    If False, plot the raw numbers\n",
    "                  If True, plot the proportions\n",
    "\n",
    "    Usage\n",
    "    -----\n",
    "    plot_confusion_matrix(cm           = cm,                  # confusion matrix created by\n",
    "                                                              # sklearn.metrics.confusion_matrix\n",
    "                          normalize    = True,                # show proportions\n",
    "                          target_names = y_labels_vals,       # list of names of the classes\n",
    "                          title        = best_estimator_name) # title of graph\n",
    "\n",
    "    Citiation\n",
    "    ---------\n",
    "    http://scikit-learn.org/stable/auto_examples/model_selection/plot_confusion_matrix.html\n",
    "\n",
    "    \"\"\"\n",
    "    import matplotlib.pyplot as plt\n",
    "    import numpy as np\n",
    "    import itertools\n",
    "\n",
    "    accuracy = np.trace(cm) / float(np.sum(cm))\n",
    "    misclass = 1 - accuracy\n",
    "\n",
    "    if cmap is None:\n",
    "        cmap = plt.get_cmap('Blues')\n",
    "\n",
    "    plt.figure(figsize=(16, 12))\n",
    "    plt.imshow(cm, interpolation='nearest', cmap=cmap)\n",
    "    plt.title(title)\n",
    "    plt.colorbar()\n",
    "\n",
    "    if target_names is not None:\n",
    "        tick_marks = np.arange(len(target_names))\n",
    "        plt.xticks(tick_marks, target_names, rotation=45)\n",
    "        plt.yticks(tick_marks, target_names)\n",
    "\n",
    "    if normalize:\n",
    "        cm = cm.astype('float') / cm.sum(axis=1)[:, np.newaxis]\n",
    "\n",
    "\n",
    "    thresh = cm.max() / 1.5 if normalize else cm.max() / 2\n",
    "    for i, j in itertools.product(range(cm.shape[0]), range(cm.shape[1])):\n",
    "        if normalize:\n",
    "            plt.text(j, i, \"{:0.2f}\".format(cm[i, j]),\n",
    "                     horizontalalignment=\"center\",\n",
    "                     color=\"white\" if cm[i, j] > thresh else \"black\")\n",
    "        else:\n",
    "            plt.text(j, i, \"{:,}\".format(cm[i, j]),\n",
    "                     horizontalalignment=\"center\",\n",
    "                     color=\"white\" if cm[i, j] > thresh else \"black\")\n",
    "\n",
    "\n",
    "    plt.tight_layout()\n",
    "    plt.ylabel('True label')\n",
    "    plt.xlabel('Predicted label\\naccuracy={:0.4f}; misclass={:0.4f}'.format(accuracy, misclass))\n",
    "    plt.show()\n",
    "    \n",
    "    \n",
    "def acc_loss_plot(network):\n",
    "    accuracy = network.history['accuracy']\n",
    "    val_accuracy = network.history['val_accuracy']\n",
    "    loss = network.history['loss']\n",
    "    val_loss = network.history['val_loss']\n",
    "    epochs = range(len(accuracy))\n",
    "    plt.plot(epochs, accuracy, 'bo', label='Training accuracy')\n",
    "    plt.plot(epochs, val_accuracy, 'c', label='Validation accuracy')\n",
    "    plt.title('Training and validation accuracy')\n",
    "    plt.legend()\n",
    "    plt.figure()\n",
    "    plt.plot(epochs, loss, 'bo', label='Training loss')\n",
    "    plt.plot(epochs, val_loss, 'c', label='Validation loss')\n",
    "    plt.title('Training and validation loss')\n",
    "    plt.legend()\n",
    "    plt.show()"
   ]
  },
  {
   "cell_type": "markdown",
   "id": "c7455e0d",
   "metadata": {
    "id": "transsexual-decision"
   },
   "source": [
    "## Lectura de les dades"
   ]
  },
  {
   "cell_type": "code",
   "execution_count": 4,
   "id": "71a7c345",
   "metadata": {
    "scrolled": true
   },
   "outputs": [
    {
     "name": "stdout",
     "output_type": "stream",
     "text": [
      "2.6.0\n"
     ]
    }
   ],
   "source": [
    "print(tf. __version__)"
   ]
  },
  {
   "cell_type": "code",
   "execution_count": 5,
   "id": "2afbd7f1",
   "metadata": {
    "colab": {
     "base_uri": "https://localhost:8080/"
    },
    "executionInfo": {
     "elapsed": 28264,
     "status": "ok",
     "timestamp": 1638284310466,
     "user": {
      "displayName": "Aida Fernandez",
      "photoUrl": "https://lh3.googleusercontent.com/a/default-user=s64",
      "userId": "06772576507680919815"
     },
     "user_tz": -60
    },
    "id": "tC7AESnKeKC6",
    "outputId": "0d284775-c8bd-44a2-b2a8-c901f140af35",
    "scrolled": false
   },
   "outputs": [
    {
     "data": {
      "text/plain": [
       "'C:\\\\Users\\\\aidaf\\\\TFG'"
      ]
     },
     "execution_count": 5,
     "metadata": {},
     "output_type": "execute_result"
    }
   ],
   "source": [
    "os.getcwd()"
   ]
  },
  {
   "cell_type": "code",
   "execution_count": 6,
   "id": "610d135e",
   "metadata": {
    "id": "ukoFgnSEkhUd"
   },
   "outputs": [
    {
     "data": {
      "text/plain": [
       "'C:\\\\Users\\\\aidaf\\\\TFG\\\\reduced'"
      ]
     },
     "execution_count": 6,
     "metadata": {},
     "output_type": "execute_result"
    }
   ],
   "source": [
    "data_dir = os.path.join(os.getcwd() + \"\\\\reduced\")\n",
    "data_dir"
   ]
  },
  {
   "cell_type": "code",
   "execution_count": 7,
   "id": "883368bc",
   "metadata": {},
   "outputs": [
    {
     "name": "stdout",
     "output_type": "stream",
     "text": [
      "['colon_aca', 'colon_n', 'lung_aca', 'lung_n', 'lung_scc']\n"
     ]
    }
   ],
   "source": [
    "classes = os. listdir(data_dir)\n",
    "print(classes)"
   ]
  },
  {
   "cell_type": "code",
   "execution_count": 8,
   "id": "43dacf52",
   "metadata": {
    "scrolled": true
   },
   "outputs": [
    {
     "data": {
      "text/plain": [
       "((4500,), (4500, 120, 120, 3))"
      ]
     },
     "execution_count": 8,
     "metadata": {},
     "output_type": "execute_result"
    }
   ],
   "source": [
    "dades_Y = np.load('labels_reduced.npy')\n",
    "dades_X = np.load('images_reduced.npy')\n",
    "\n",
    "dades_Y.shape, dades_X.shape"
   ]
  },
  {
   "cell_type": "code",
   "execution_count": 9,
   "id": "bde5f0a4",
   "metadata": {},
   "outputs": [
    {
     "data": {
      "text/plain": [
       "((500, 120, 120, 3), (500,))"
      ]
     },
     "execution_count": 9,
     "metadata": {},
     "output_type": "execute_result"
    }
   ],
   "source": [
    "clean_Y = np.load('labels_reduced_clean.npy')\n",
    "clean_X = np.load('images_reduced_clean.npy')\n",
    "\n",
    "clean_X.shape, clean_Y.shape"
   ]
  },
  {
   "cell_type": "markdown",
   "id": "c0ddeb48",
   "metadata": {
    "id": "bright-brisbane"
   },
   "source": [
    "## Descripció de les dades"
   ]
  },
  {
   "cell_type": "code",
   "execution_count": 10,
   "id": "22d9e7c8",
   "metadata": {},
   "outputs": [],
   "source": [
    "dades_Y_clean, dades_Y_resta = dades_Y[0:100], dades_Y[100:4500]\n",
    "dades_X_clean, dades_X_resta = dades_X[0:100,], dades_X[100:4500,]"
   ]
  },
  {
   "cell_type": "markdown",
   "id": "3291ae07",
   "metadata": {
    "id": "excess-dictionary"
   },
   "source": [
    "Dimensió: "
   ]
  },
  {
   "cell_type": "code",
   "execution_count": 11,
   "id": "b8bedda0",
   "metadata": {
    "id": "relative-apartment",
    "scrolled": true
   },
   "outputs": [
    {
     "name": "stdout",
     "output_type": "stream",
     "text": [
      "Dimensions de les dades :  (100, 120, 120, 3) (100,)\n",
      "Dimensions de les dades :  (4400, 120, 120, 3) (4400,)\n"
     ]
    }
   ],
   "source": [
    "print('Dimensions de les dades : ', dades_X_clean.shape, dades_Y_clean.shape)\n",
    "print('Dimensions de les dades : ', dades_X_resta.shape, dades_Y_resta.shape)"
   ]
  },
  {
   "cell_type": "markdown",
   "id": "f857531c",
   "metadata": {
    "id": "diagnostic-individual"
   },
   "source": [
    "Nombre de classes i etiquetes: "
   ]
  },
  {
   "cell_type": "code",
   "execution_count": 12,
   "id": "c908c60b",
   "metadata": {
    "id": "close-frontier"
   },
   "outputs": [
    {
     "name": "stdout",
     "output_type": "stream",
     "text": [
      "Nombre de classes :  5\n",
      "Etiquetes de les classes :  ['colon_aca', 'colon_n', 'lung_aca', 'lung_n', 'lung_scc']\n"
     ]
    }
   ],
   "source": [
    "n_classes = len(classes)\n",
    "print('Nombre de classes : ', n_classes)\n",
    "print('Etiquetes de les classes : ', classes)"
   ]
  },
  {
   "cell_type": "markdown",
   "id": "07a58a67",
   "metadata": {
    "id": "unsigned-marathon"
   },
   "source": [
    "Distribució de les classes: "
   ]
  },
  {
   "cell_type": "code",
   "execution_count": 13,
   "id": "a0e9471a",
   "metadata": {
    "id": "fossil-lancaster",
    "scrolled": true
   },
   "outputs": [
    {
     "name": "stdout",
     "output_type": "stream",
     "text": [
      "Distribució de les classes :  Counter({0: 24, 1: 23, 2: 20, 3: 17, 4: 16})\n",
      "Distribució de les classes :  Counter({4: 884, 3: 883, 2: 880, 1: 877, 0: 876})\n"
     ]
    }
   ],
   "source": [
    "print(\"Distribució de les classes : \",collections.Counter(dades_Y_clean))\n",
    "print(\"Distribució de les classes : \",collections.Counter(dades_Y_resta))"
   ]
  },
  {
   "cell_type": "markdown",
   "id": "f30f9175",
   "metadata": {},
   "source": [
    "# Augmentem encara més el soroll"
   ]
  },
  {
   "cell_type": "code",
   "execution_count": 22,
   "id": "d67d2e62",
   "metadata": {},
   "outputs": [
    {
     "data": {
      "text/plain": [
       "array([1., 1., 1., 1., 1.])"
      ]
     },
     "execution_count": 22,
     "metadata": {},
     "output_type": "execute_result"
    }
   ],
   "source": [
    "noise_matrix = np.array([[.54,.34,.06,.03,.03],\n",
    "                         [.39,.50,.03,.03,.05],\n",
    "                         [.10,.01,.25,.34,.30],\n",
    "                         [.08,.01,.12,.66,.13],\n",
    "                         [.08,.08,.13,.15,.56]])\n",
    "\n",
    "np.sum(noise_matrix,1)"
   ]
  },
  {
   "cell_type": "code",
   "execution_count": 23,
   "id": "59c8a600",
   "metadata": {
    "scrolled": true
   },
   "outputs": [
    {
     "name": "stdout",
     "output_type": "stream",
     "text": [
      "\n",
      " Noise Matrix (aka Noisy Channel) P(s|y) of shape (5, 5)\n",
      " p(s|y)\ty=0\ty=1\ty=2\ty=3\ty=4\n",
      "\t---\t---\t---\t---\t---\n",
      "s=0 |\t0.54\t0.34\t0.06\t0.03\t0.03\n",
      "s=1 |\t0.39\t0.5\t0.03\t0.03\t0.05\n",
      "s=2 |\t0.1\t0.01\t0.25\t0.34\t0.3\n",
      "s=3 |\t0.08\t0.01\t0.12\t0.66\t0.13\n",
      "s=4 |\t0.08\t0.08\t0.13\t0.15\t0.56\n",
      "\tTrace(matrix) = 2.51\n",
      "\n",
      "------------------------------------------------------\n",
      "% d'etiquetes netes:  0.5040909090909091\n",
      "------------------------------------------------------\n",
      "(90, 120, 120, 3) (10, 120, 120, 3) (90, 5) (10, 5)\n",
      "------------------------------------------------------\n",
      "Distribució de les classes :  Counter({2: 1243, 1: 930, 4: 821, 0: 710, 3: 696})\n"
     ]
    }
   ],
   "source": [
    "print_noise_matrix(noise_matrix)\n",
    "np.random.seed(seed=1)\n",
    "# Create the noisy labels. This method is exact w.r.t. the noise_matrix.\n",
    "y_train_w_errors = generate_noisy_labels(dades_Y_resta, noise_matrix)\n",
    "\n",
    "\n",
    "print(\"------------------------------------------------------\")\n",
    "print(\"% d'etiquetes netes: \",sum(y_train_w_errors == dades_Y_resta)/len(dades_Y_resta))\n",
    "\n",
    "print(\"------------------------------------------------------\")\n",
    "\n",
    "dades_Y_one_hot = np.array(pd.get_dummies(dades_Y_clean))\n",
    "dades_Y_one_hot = dades_Y_one_hot.astype('float32')\n",
    "\n",
    "train_X,valid_X,train_label,valid_label = train_test_split(dades_X_clean, dades_Y_one_hot, test_size=0.1, \n",
    "                                                           random_state=13,stratify=dades_Y_one_hot)\n",
    "\n",
    "print(train_X.shape,valid_X.shape,train_label.shape,valid_label.shape)\n",
    "\n",
    "print(\"------------------------------------------------------\")\n",
    "\n",
    "print(\"Distribució de les classes : \",collections.Counter(y_train_w_errors))"
   ]
  },
  {
   "cell_type": "code",
   "execution_count": 38,
   "id": "85854f5c",
   "metadata": {},
   "outputs": [],
   "source": [
    "model = Sequential()\n",
    "model.add(Rescaling(1./255, input_shape=(dades_X_clean.shape[1],dades_X_clean.shape[2],3)))\n",
    "model.add(Conv2D(8, kernel_size=(3, 3),activation='linear', padding='same'))\n",
    "model.add(LeakyReLU(alpha=0.1))\n",
    "model.add(MaxPooling2D((2, 2),padding='same'))\n",
    "model.add(Dropout(0.2))\n",
    "model.add(Conv2D(16, (3, 3), activation='linear',padding='same'))\n",
    "model.add(LeakyReLU(alpha=0.1))\n",
    "model.add(MaxPooling2D(pool_size=(2, 2),padding='same'))\n",
    "model.add(Flatten())\n",
    "model.add(Dense(16, activation='linear'))\n",
    "model.add(LeakyReLU(alpha=0.1))\n",
    "model.add(Dropout(0.2))\n",
    "model.add(Dense(n_classes, activation='softmax'))\n",
    "\n",
    "# fit model on the augmented dataset\n",
    "# initialize the number of epochs and batch size\n",
    "EPOCHS = 30\n",
    "BS = 32\n",
    "\n",
    "model.compile(loss=keras.losses.categorical_crossentropy, \n",
    "              optimizer=keras.optimizers.Adam(),metrics=['accuracy'])"
   ]
  },
  {
   "cell_type": "code",
   "execution_count": 39,
   "id": "d56ac640",
   "metadata": {
    "scrolled": false
   },
   "outputs": [
    {
     "name": "stdout",
     "output_type": "stream",
     "text": [
      "Epoch 1/30\n",
      "3/3 [==============================] - 2s 459ms/step - loss: 2.3100 - accuracy: 0.2444 - val_loss: 1.7611 - val_accuracy: 0.2000\n",
      "Epoch 2/30\n",
      "3/3 [==============================] - 0s 140ms/step - loss: 1.8768 - accuracy: 0.2556 - val_loss: 1.6239 - val_accuracy: 0.2000\n",
      "Epoch 3/30\n",
      "3/3 [==============================] - 0s 158ms/step - loss: 1.5855 - accuracy: 0.2778 - val_loss: 1.5678 - val_accuracy: 0.2000\n",
      "Epoch 4/30\n",
      "3/3 [==============================] - 0s 154ms/step - loss: 1.5454 - accuracy: 0.2778 - val_loss: 1.5425 - val_accuracy: 0.2000\n",
      "Epoch 5/30\n",
      "3/3 [==============================] - 0s 153ms/step - loss: 1.4449 - accuracy: 0.3556 - val_loss: 1.4510 - val_accuracy: 0.2000\n",
      "Epoch 6/30\n",
      "3/3 [==============================] - 0s 141ms/step - loss: 1.3644 - accuracy: 0.3556 - val_loss: 1.3925 - val_accuracy: 0.3000\n",
      "Epoch 7/30\n",
      "3/3 [==============================] - 0s 138ms/step - loss: 1.3560 - accuracy: 0.3778 - val_loss: 1.3057 - val_accuracy: 0.5000\n",
      "Epoch 8/30\n",
      "3/3 [==============================] - 1s 333ms/step - loss: 1.2308 - accuracy: 0.4667 - val_loss: 1.2499 - val_accuracy: 0.5000\n",
      "Epoch 9/30\n",
      "3/3 [==============================] - 1s 348ms/step - loss: 1.2092 - accuracy: 0.4667 - val_loss: 1.2180 - val_accuracy: 0.5000\n",
      "Epoch 10/30\n",
      "3/3 [==============================] - 0s 140ms/step - loss: 1.1573 - accuracy: 0.4778 - val_loss: 1.1630 - val_accuracy: 0.4000\n",
      "Epoch 11/30\n",
      "3/3 [==============================] - 0s 137ms/step - loss: 1.1735 - accuracy: 0.4667 - val_loss: 1.1333 - val_accuracy: 0.4000\n",
      "Epoch 12/30\n",
      "3/3 [==============================] - 0s 139ms/step - loss: 1.1096 - accuracy: 0.4333 - val_loss: 1.1282 - val_accuracy: 0.4000\n",
      "Epoch 13/30\n",
      "3/3 [==============================] - 0s 136ms/step - loss: 1.0755 - accuracy: 0.5000 - val_loss: 1.0832 - val_accuracy: 0.3000\n",
      "Epoch 14/30\n",
      "3/3 [==============================] - 0s 143ms/step - loss: 1.0663 - accuracy: 0.4556 - val_loss: 1.0840 - val_accuracy: 0.4000\n",
      "Epoch 15/30\n",
      "3/3 [==============================] - 0s 143ms/step - loss: 0.9944 - accuracy: 0.6000 - val_loss: 1.0494 - val_accuracy: 0.3000\n",
      "Epoch 16/30\n",
      "3/3 [==============================] - 0s 140ms/step - loss: 0.9617 - accuracy: 0.6222 - val_loss: 1.0213 - val_accuracy: 0.5000\n",
      "Epoch 17/30\n",
      "3/3 [==============================] - 0s 141ms/step - loss: 0.8996 - accuracy: 0.5667 - val_loss: 0.9814 - val_accuracy: 0.4000\n",
      "Epoch 18/30\n",
      "3/3 [==============================] - 0s 135ms/step - loss: 0.9808 - accuracy: 0.5000 - val_loss: 0.9415 - val_accuracy: 0.5000\n",
      "Epoch 19/30\n",
      "3/3 [==============================] - 0s 144ms/step - loss: 0.9295 - accuracy: 0.5667 - val_loss: 0.9841 - val_accuracy: 0.4000\n",
      "Epoch 20/30\n",
      "3/3 [==============================] - 0s 140ms/step - loss: 0.8607 - accuracy: 0.5778 - val_loss: 0.9554 - val_accuracy: 0.4000\n",
      "Epoch 21/30\n",
      "3/3 [==============================] - 0s 170ms/step - loss: 0.9057 - accuracy: 0.6111 - val_loss: 0.9146 - val_accuracy: 0.4000\n",
      "Epoch 22/30\n",
      "3/3 [==============================] - 1s 193ms/step - loss: 0.7651 - accuracy: 0.6778 - val_loss: 0.8877 - val_accuracy: 0.7000\n",
      "Epoch 23/30\n",
      "3/3 [==============================] - 0s 150ms/step - loss: 0.7527 - accuracy: 0.6111 - val_loss: 0.8425 - val_accuracy: 0.5000\n",
      "Epoch 24/30\n",
      "3/3 [==============================] - 1s 192ms/step - loss: 0.7274 - accuracy: 0.6333 - val_loss: 0.7959 - val_accuracy: 0.7000\n",
      "Epoch 25/30\n",
      "3/3 [==============================] - 1s 152ms/step - loss: 0.6945 - accuracy: 0.7111 - val_loss: 0.8191 - val_accuracy: 0.5000\n",
      "Epoch 26/30\n",
      "3/3 [==============================] - 0s 153ms/step - loss: 0.7045 - accuracy: 0.7444 - val_loss: 0.8177 - val_accuracy: 0.5000\n",
      "Epoch 27/30\n",
      "3/3 [==============================] - 0s 159ms/step - loss: 0.5854 - accuracy: 0.8111 - val_loss: 0.8359 - val_accuracy: 0.6000\n",
      "Epoch 28/30\n",
      "3/3 [==============================] - 0s 172ms/step - loss: 0.5639 - accuracy: 0.7333 - val_loss: 0.8042 - val_accuracy: 0.5000\n",
      "Epoch 29/30\n",
      "3/3 [==============================] - 0s 158ms/step - loss: 0.5954 - accuracy: 0.7333 - val_loss: 0.7423 - val_accuracy: 0.6000\n",
      "Epoch 30/30\n",
      "3/3 [==============================] - 0s 152ms/step - loss: 0.4365 - accuracy: 0.8556 - val_loss: 0.7869 - val_accuracy: 0.7000\n"
     ]
    }
   ],
   "source": [
    "# train the network\n",
    "H = model.fit(train_X, train_label, batch_size=BS, epochs=EPOCHS,\n",
    "              verbose=1, validation_data=(valid_X, valid_label))"
   ]
  },
  {
   "cell_type": "code",
   "execution_count": 40,
   "id": "16d4ecd6",
   "metadata": {},
   "outputs": [],
   "source": [
    "model.save(\"model_50_100.h5\")"
   ]
  },
  {
   "cell_type": "code",
   "execution_count": 41,
   "id": "9d71f6d7",
   "metadata": {
    "scrolled": true
   },
   "outputs": [
    {
     "name": "stdout",
     "output_type": "stream",
     "text": [
      "Test loss: 0.7869415283203125\n",
      "Test accuracy: 0.699999988079071\n"
     ]
    }
   ],
   "source": [
    "def_model = keras.models.load_model('model_50_100.h5')\n",
    "test_eval = def_model.evaluate(valid_X,valid_label, verbose=0)\n",
    "\n",
    "print('Test loss:', test_eval[0])\n",
    "print('Test accuracy:', test_eval[1])"
   ]
  },
  {
   "cell_type": "code",
   "execution_count": 42,
   "id": "3f4e2a1a",
   "metadata": {},
   "outputs": [],
   "source": [
    "predicted_classes = def_model.predict(valid_X)\n",
    "predicted_classes = np.argmax(np.round(predicted_classes),axis=1)\n",
    "valid_labels = np.argmax(np.round(valid_label),axis=1)"
   ]
  },
  {
   "cell_type": "code",
   "execution_count": 43,
   "id": "e810bd19",
   "metadata": {
    "scrolled": false
   },
   "outputs": [
    {
     "data": {
      "image/png": "[encoded data removed]",
      "text/plain": [
       "<Figure size 432x288 with 1 Axes>"
      ]
     },
     "metadata": {
      "needs_background": "light"
     },
     "output_type": "display_data"
    },
    {
     "data": {
      "image/png": "[encoded data removed]",
      "text/plain": [
       "<Figure size 432x288 with 1 Axes>"
      ]
     },
     "metadata": {
      "needs_background": "light"
     },
     "output_type": "display_data"
    }
   ],
   "source": [
    "acc_loss_plot(H)"
   ]
  },
  {
   "cell_type": "code",
   "execution_count": 44,
   "id": "a595e7d2",
   "metadata": {
    "scrolled": false
   },
   "outputs": [
    {
     "data": {
      "image/png": "[encoded data removed]",
      "text/plain": [
       "<Figure size 1152x864 with 2 Axes>"
      ]
     },
     "metadata": {
      "needs_background": "light"
     },
     "output_type": "display_data"
    }
   ],
   "source": [
    "plot_confusion_matrix(confusion_matrix(valid_labels, predicted_classes), target_names = classes)"
   ]
  },
  {
   "cell_type": "code",
   "execution_count": 45,
   "id": "a05a199b",
   "metadata": {
    "scrolled": false
   },
   "outputs": [
    {
     "name": "stdout",
     "output_type": "stream",
     "text": [
      "              precision    recall  f1-score   support\n",
      "\n",
      "   colon_aca       0.40      1.00      0.57         2\n",
      "     colon_n       0.00      0.00      0.00         2\n",
      "    lung_aca       0.67      1.00      0.80         2\n",
      "      lung_n       1.00      0.50      0.67         2\n",
      "    lung_scc       1.00      0.50      0.67         2\n",
      "\n",
      "    accuracy                           0.60        10\n",
      "   macro avg       0.61      0.60      0.54        10\n",
      "weighted avg       0.61      0.60      0.54        10\n",
      "\n"
     ]
    },
    {
     "name": "stderr",
     "output_type": "stream",
     "text": [
      "C:\\Users\\aidaf\\anaconda3\\envs\\tf\\lib\\site-packages\\sklearn\\metrics\\_classification.py:1308: UndefinedMetricWarning: Precision and F-score are ill-defined and being set to 0.0 in labels with no predicted samples. Use `zero_division` parameter to control this behavior.\n",
      "  _warn_prf(average, modifier, msg_start, len(result))\n",
      "C:\\Users\\aidaf\\anaconda3\\envs\\tf\\lib\\site-packages\\sklearn\\metrics\\_classification.py:1308: UndefinedMetricWarning: Precision and F-score are ill-defined and being set to 0.0 in labels with no predicted samples. Use `zero_division` parameter to control this behavior.\n",
      "  _warn_prf(average, modifier, msg_start, len(result))\n",
      "C:\\Users\\aidaf\\anaconda3\\envs\\tf\\lib\\site-packages\\sklearn\\metrics\\_classification.py:1308: UndefinedMetricWarning: Precision and F-score are ill-defined and being set to 0.0 in labels with no predicted samples. Use `zero_division` parameter to control this behavior.\n",
      "  _warn_prf(average, modifier, msg_start, len(result))\n"
     ]
    }
   ],
   "source": [
    "target_names = [\"Class {}\".format(i) for i in range(n_classes)]\n",
    "print(classification_report(valid_labels, predicted_classes, target_names=classes))"
   ]
  },
  {
   "cell_type": "markdown",
   "id": "51d1c2b1",
   "metadata": {},
   "source": [
    "## Demanem al model que digui quines prediccions són errónies"
   ]
  },
  {
   "cell_type": "code",
   "execution_count": 46,
   "id": "64dca29c",
   "metadata": {},
   "outputs": [],
   "source": [
    "prediccions = def_model.predict(dades_X_resta)"
   ]
  },
  {
   "cell_type": "code",
   "execution_count": 47,
   "id": "78ef54c7",
   "metadata": {},
   "outputs": [],
   "source": [
    "s = dades_Y_resta\n",
    "psx = prediccions"
   ]
  },
  {
   "cell_type": "code",
   "execution_count": 48,
   "id": "89755f45",
   "metadata": {},
   "outputs": [],
   "source": [
    "label_error_mask = np.zeros(len(s), dtype=bool)\n",
    "label_error_indices = compute_confident_joint(\n",
    "    s, psx, return_indices_of_off_diagonals=True)[1]\n",
    "baseline_conf_joint_only = label_error_mask    \n",
    "\n",
    "# Method: C_confusion\n",
    "baseline_argmax = baseline_methods.baseline_argmax(psx, s)\n",
    "\n",
    "# Method: CL: PBC\n",
    "baseline_cl_pbc = cleanlab.pruning.get_noise_indices(\n",
    "    s, psx, prune_method='prune_by_class')\n",
    "\n",
    "# ethod: CL: PBNR\n",
    "baseline_cl_pbnr = cleanlab.pruning.get_noise_indices(\n",
    "            s, psx, prune_method='prune_by_noise_rate')\n",
    "\n",
    "# Method: CL: C+NR\n",
    "baseline_cl_both = cleanlab.pruning.get_noise_indices(\n",
    "    s, psx, prune_method='both')\n",
    "\n",
    "clean_labels = {\n",
    "        'conf_joint_only': ~baseline_conf_joint_only,\n",
    "        'pruned_argmax': ~baseline_argmax,\n",
    "        'cl_pbc': ~baseline_cl_pbc,\n",
    "        'cl_pbnr': ~baseline_cl_pbnr,\n",
    "        'cl_both': ~baseline_cl_both,\n",
    "    }"
   ]
  },
  {
   "cell_type": "code",
   "execution_count": 49,
   "id": "bc07fa7e",
   "metadata": {},
   "outputs": [],
   "source": [
    "aux = ((((baseline_conf_joint_only==baseline_argmax)\n",
    "         ==(baseline_argmax==baseline_cl_pbc))\n",
    "         ==((baseline_cl_pbc==baseline_cl_pbnr)\n",
    "         ==(baseline_cl_pbnr==baseline_cl_both)))\n",
    "         ==(baseline_cl_both==baseline_cl_pbnr))"
   ]
  },
  {
   "cell_type": "code",
   "execution_count": 50,
   "id": "600b8b6d",
   "metadata": {
    "scrolled": true
   },
   "outputs": [
    {
     "data": {
      "text/plain": [
       "(2934, 0.6668181818181819)"
      ]
     },
     "execution_count": 50,
     "metadata": {},
     "output_type": "execute_result"
    }
   ],
   "source": [
    "sum(aux), sum(aux)/len(aux)"
   ]
  },
  {
   "cell_type": "code",
   "execution_count": 51,
   "id": "163cc73c",
   "metadata": {
    "scrolled": false
   },
   "outputs": [
    {
     "name": "stdout",
     "output_type": "stream",
     "text": [
      "(2934, 120, 120, 3) (2934,)\n"
     ]
    }
   ],
   "source": [
    "X_defs = dades_X_resta[aux]\n",
    "Y_defs = dades_Y_resta[aux]\n",
    "\n",
    "print(X_defs.shape,Y_defs.shape)"
   ]
  },
  {
   "cell_type": "code",
   "execution_count": 52,
   "id": "20d3c645",
   "metadata": {},
   "outputs": [
    {
     "name": "stdout",
     "output_type": "stream",
     "text": [
      "(3034, 120, 120, 3) (3034,)\n"
     ]
    }
   ],
   "source": [
    "new_Y = np.concatenate((dades_Y_clean, Y_defs),axis = 0)\n",
    "new_X = np.concatenate((dades_X_clean, X_defs),axis = 0)\n",
    "\n",
    "print(new_X.shape,new_Y.shape)"
   ]
  },
  {
   "cell_type": "code",
   "execution_count": 53,
   "id": "2bd72d06",
   "metadata": {},
   "outputs": [
    {
     "name": "stdout",
     "output_type": "stream",
     "text": [
      "(2730, 120, 120, 3) (304, 120, 120, 3) (2730, 5) (304, 5)\n",
      "------------------------------------------------------\n",
      "Distribució de les classes :  Counter({0: 788, 2: 672, 3: 620, 1: 524, 4: 430})\n"
     ]
    }
   ],
   "source": [
    "dades_Y_one_hot = np.array(pd.get_dummies(new_Y))\n",
    "dades_Y_one_hot = dades_Y_one_hot.astype('float32')\n",
    "\n",
    "train_X,valid_X,train_label,valid_label = train_test_split(new_X, dades_Y_one_hot, test_size=0.1, \n",
    "                                                           random_state=13,stratify=new_Y)\n",
    "\n",
    "print(train_X.shape,valid_X.shape,train_label.shape,valid_label.shape)\n",
    "\n",
    "print(\"------------------------------------------------------\")\n",
    "\n",
    "print(\"Distribució de les classes : \",collections.Counter(new_Y))"
   ]
  },
  {
   "cell_type": "code",
   "execution_count": 54,
   "id": "aee253fc",
   "metadata": {},
   "outputs": [],
   "source": [
    "model = Sequential()\n",
    "model.add(Rescaling(1./255, input_shape=(dades_X_clean.shape[1],dades_X_clean.shape[2],3)))\n",
    "model.add(Conv2D(32, kernel_size=(3, 3),activation='linear', padding='same'))\n",
    "model.add(LeakyReLU(alpha=0.1))\n",
    "model.add(MaxPooling2D((2, 2),padding='same'))\n",
    "model.add(Conv2D(64, (3, 3), activation='linear',padding='same'))\n",
    "model.add(LeakyReLU(alpha=0.1))\n",
    "model.add(MaxPooling2D(pool_size=(2, 2),padding='same'))\n",
    "model.add(Conv2D(128, (3, 3), activation='linear',padding='same'))\n",
    "model.add(LeakyReLU(alpha=0.1))\n",
    "model.add(MaxPooling2D(pool_size=(2, 2),padding='same'))\n",
    "model.add(Flatten())\n",
    "model.add(Dense(128, activation='linear'))\n",
    "model.add(LeakyReLU(alpha=0.1))\n",
    "model.add(Dropout(0.4))\n",
    "model.add(Dense(n_classes, activation='softmax'))\n",
    "\n",
    "# fit model on the augmented dataset\n",
    "# initialize the number of epochs and batch size\n",
    "EPOCHS = 20\n",
    "BS = 64\n",
    "\n",
    "model.compile(loss=keras.losses.categorical_crossentropy, \n",
    "              optimizer=keras.optimizers.Adam(),metrics=['accuracy'])"
   ]
  },
  {
   "cell_type": "code",
   "execution_count": 55,
   "id": "6c0108e4",
   "metadata": {},
   "outputs": [
    {
     "name": "stdout",
     "output_type": "stream",
     "text": [
      "Epoch 1/20\n",
      "43/43 [==============================] - 98s 2s/step - loss: 0.9688 - accuracy: 0.6073 - val_loss: 0.3053 - val_accuracy: 0.8750\n",
      "Epoch 2/20\n",
      "43/43 [==============================] - 92s 2s/step - loss: 0.4157 - accuracy: 0.8161 - val_loss: 0.2512 - val_accuracy: 0.9145\n",
      "Epoch 3/20\n",
      "43/43 [==============================] - 93s 2s/step - loss: 0.3418 - accuracy: 0.8593 - val_loss: 0.2828 - val_accuracy: 0.8618\n",
      "Epoch 4/20\n",
      "43/43 [==============================] - 94s 2s/step - loss: 0.2355 - accuracy: 0.8916 - val_loss: 0.2790 - val_accuracy: 0.9013\n",
      "Epoch 5/20\n",
      "43/43 [==============================] - 99s 2s/step - loss: 0.2131 - accuracy: 0.9088 - val_loss: 0.3140 - val_accuracy: 0.8783\n",
      "Epoch 6/20\n",
      "43/43 [==============================] - 98s 2s/step - loss: 0.2077 - accuracy: 0.9256 - val_loss: 0.1622 - val_accuracy: 0.9572\n",
      "Epoch 7/20\n",
      "43/43 [==============================] - 106s 2s/step - loss: 0.1481 - accuracy: 0.9458 - val_loss: 0.1799 - val_accuracy: 0.9342\n",
      "Epoch 8/20\n",
      "43/43 [==============================] - 133s 3s/step - loss: 0.0949 - accuracy: 0.9637 - val_loss: 0.1745 - val_accuracy: 0.9342\n",
      "Epoch 9/20\n",
      "43/43 [==============================] - 135s 3s/step - loss: 0.1550 - accuracy: 0.9462 - val_loss: 0.3273 - val_accuracy: 0.8947\n",
      "Epoch 10/20\n",
      "43/43 [==============================] - 133s 3s/step - loss: 0.1441 - accuracy: 0.9418 - val_loss: 0.1529 - val_accuracy: 0.9474\n",
      "Epoch 11/20\n",
      "43/43 [==============================] - 117s 3s/step - loss: 0.1173 - accuracy: 0.9509 - val_loss: 0.3751 - val_accuracy: 0.8914\n",
      "Epoch 12/20\n",
      "43/43 [==============================] - 114s 3s/step - loss: 0.0723 - accuracy: 0.9755 - val_loss: 0.1703 - val_accuracy: 0.9507\n",
      "Epoch 13/20\n",
      "43/43 [==============================] - 115s 3s/step - loss: 0.0489 - accuracy: 0.9828 - val_loss: 0.1496 - val_accuracy: 0.9539\n",
      "Epoch 14/20\n",
      "43/43 [==============================] - 145s 3s/step - loss: 0.0424 - accuracy: 0.9839 - val_loss: 0.1923 - val_accuracy: 0.9474\n",
      "Epoch 15/20\n",
      "43/43 [==============================] - 222s 5s/step - loss: 0.0331 - accuracy: 0.9883 - val_loss: 0.1721 - val_accuracy: 0.9605\n",
      "Epoch 16/20\n",
      "43/43 [==============================] - 224s 5s/step - loss: 0.0160 - accuracy: 0.9949 - val_loss: 0.2114 - val_accuracy: 0.9507\n",
      "Epoch 17/20\n",
      "43/43 [==============================] - 260s 6s/step - loss: 0.0215 - accuracy: 0.9941 - val_loss: 0.2213 - val_accuracy: 0.9441\n",
      "Epoch 18/20\n",
      "43/43 [==============================] - 123s 3s/step - loss: 0.0196 - accuracy: 0.9938 - val_loss: 0.2106 - val_accuracy: 0.9539\n",
      "Epoch 19/20\n",
      "43/43 [==============================] - 107s 2s/step - loss: 0.0077 - accuracy: 0.9978 - val_loss: 0.2405 - val_accuracy: 0.9605\n",
      "Epoch 20/20\n",
      "43/43 [==============================] - 105s 2s/step - loss: 0.0191 - accuracy: 0.9941 - val_loss: 0.2523 - val_accuracy: 0.9441\n"
     ]
    }
   ],
   "source": [
    "# train the network\n",
    "H = model.fit(train_X, train_label, batch_size=BS, epochs=EPOCHS,\n",
    "              verbose=1, validation_data=(valid_X, valid_label))"
   ]
  },
  {
   "cell_type": "code",
   "execution_count": 56,
   "id": "7e2c6978",
   "metadata": {},
   "outputs": [],
   "source": [
    "model.save(\"model_50_100_defs.h5\")"
   ]
  },
  {
   "cell_type": "code",
   "execution_count": 57,
   "id": "011f4b4d",
   "metadata": {},
   "outputs": [
    {
     "name": "stdout",
     "output_type": "stream",
     "text": [
      "Test loss: 0.2522812485694885\n",
      "Test accuracy: 0.9440789222717285\n"
     ]
    }
   ],
   "source": [
    "def_model_2 = keras.models.load_model('model_50_100_defs.h5')\n",
    "test_eval = def_model_2.evaluate(valid_X,valid_label, verbose=0)\n",
    "\n",
    "print('Test loss:', test_eval[0])\n",
    "print('Test accuracy:', test_eval[1])"
   ]
  },
  {
   "cell_type": "code",
   "execution_count": 58,
   "id": "ee34432c",
   "metadata": {},
   "outputs": [],
   "source": [
    "predicted_classes = def_model_2.predict(valid_X)\n",
    "predicted_classes = np.argmax(np.round(predicted_classes),axis=1)\n",
    "valid_labels = np.argmax(np.round(valid_label),axis=1)"
   ]
  },
  {
   "cell_type": "code",
   "execution_count": 59,
   "id": "8dc1c942",
   "metadata": {},
   "outputs": [
    {
     "data": {
      "image/png": "[encoded data removed]",
      "text/plain": [
       "<Figure size 432x288 with 1 Axes>"
      ]
     },
     "metadata": {
      "needs_background": "light"
     },
     "output_type": "display_data"
    },
    {
     "data": {
      "image/png": "[encoded data removed]",
      "text/plain": [
       "<Figure size 432x288 with 1 Axes>"
      ]
     },
     "metadata": {
      "needs_background": "light"
     },
     "output_type": "display_data"
    }
   ],
   "source": [
    "acc_loss_plot(H)"
   ]
  },
  {
   "cell_type": "code",
   "execution_count": 60,
   "id": "ec7cb233",
   "metadata": {},
   "outputs": [
    {
     "data": {
      "image/png": "[encoded data removed]",
      "text/plain": [
       "<Figure size 1152x864 with 2 Axes>"
      ]
     },
     "metadata": {
      "needs_background": "light"
     },
     "output_type": "display_data"
    }
   ],
   "source": [
    "plot_confusion_matrix(confusion_matrix(valid_labels, predicted_classes), target_names = classes)"
   ]
  },
  {
   "cell_type": "code",
   "execution_count": 61,
   "id": "857a621b",
   "metadata": {},
   "outputs": [
    {
     "name": "stdout",
     "output_type": "stream",
     "text": [
      "              precision    recall  f1-score   support\n",
      "\n",
      "   colon_aca       0.97      0.92      0.95        79\n",
      "     colon_n       0.89      0.96      0.93        53\n",
      "    lung_aca       0.94      0.93      0.93        67\n",
      "      lung_n       1.00      1.00      1.00        62\n",
      "    lung_scc       0.89      0.91      0.90        43\n",
      "\n",
      "    accuracy                           0.94       304\n",
      "   macro avg       0.94      0.94      0.94       304\n",
      "weighted avg       0.95      0.94      0.94       304\n",
      "\n"
     ]
    }
   ],
   "source": [
    "target_names = [\"Class {}\".format(i) for i in range(n_classes)]\n",
    "print(classification_report(valid_labels, predicted_classes, target_names=classes))"
   ]
  },
  {
   "cell_type": "markdown",
   "id": "8769cc41",
   "metadata": {},
   "source": [
    "### Comprovem com va classificar el model inicial entrenat amb les dades errònies"
   ]
  },
  {
   "cell_type": "code",
   "execution_count": 62,
   "id": "5e59de06",
   "metadata": {},
   "outputs": [],
   "source": [
    "def_model_defs = keras.models.load_model('model_50_100_defs.h5')"
   ]
  },
  {
   "cell_type": "code",
   "execution_count": 63,
   "id": "9e447bfa",
   "metadata": {},
   "outputs": [],
   "source": [
    "prediction = def_model_defs.predict(clean_X)\n",
    "pred_labs_defs = []\n",
    "\n",
    "for i in range(len(prediction)):\n",
    "    pred_labs_defs.append(np.argmax(prediction[i]))"
   ]
  },
  {
   "cell_type": "code",
   "execution_count": 64,
   "id": "4d4b5b99",
   "metadata": {},
   "outputs": [
    {
     "data": {
      "text/plain": [
       "0.844"
      ]
     },
     "execution_count": 64,
     "metadata": {},
     "output_type": "execute_result"
    }
   ],
   "source": [
    "sum(pred_labs_defs == clean_Y)/len(clean_Y)"
   ]
  }
 ],
 "metadata": {
  "accelerator": "TPU",
  "colab": {
   "collapsed_sections": [
    "bright-brisbane",
    "manufactured-begin",
    "intended-professor",
    "divine-diesel",
    "verified-guarantee"
   ],
   "name": "TFG.ipynb",
   "provenance": []
  },
  "kernelspec": {
   "display_name": "Python 3 (ipykernel)",
   "language": "python",
   "name": "python3"
  },
  "language_info": {
   "codemirror_mode": {
    "name": "ipython",
    "version": 3
   },
   "file_extension": ".py",
   "mimetype": "text/x-python",
   "name": "python",
   "nbconvert_exporter": "python",
   "pygments_lexer": "ipython3",
   "version": "3.9.7"
  }
 },
 "nbformat": 4,
 "nbformat_minor": 5
}
