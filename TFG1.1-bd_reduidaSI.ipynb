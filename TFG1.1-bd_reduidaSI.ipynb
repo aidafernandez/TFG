{
 "cells": [
  {
   "cell_type": "markdown",
   "id": "f523d167",
   "metadata": {
    "id": "comfortable-avenue"
   },
   "source": [
    "## Packages"
   ]
  },
  {
   "cell_type": "code",
   "execution_count": 1,
   "id": "7b1231d0",
   "metadata": {
    "id": "blond-ceramic",
    "scrolled": true
   },
   "outputs": [],
   "source": [
    "import pandas as pd\n",
    "\n",
    "import numpy as np\n",
    "\n",
    "import matplotlib.pyplot as plt\n",
    "\n",
    "import os\n",
    "\n",
    "import collections\n",
    "import random\n",
    "\n",
    "import tensorflow as tf\n",
    "from tensorflow import keras\n",
    "from tensorflow.keras import layers\n",
    "from tensorflow.keras.preprocessing.image import load_img\n",
    "\n",
    "import keras\n",
    "from keras.models import Sequential,Input,Model\n",
    "from keras.layers import Dense, Dropout, Flatten\n",
    "from keras.layers import Conv2D, MaxPooling2D\n",
    "from keras.layers.normalization import BatchNormalization\n",
    "from keras.layers.advanced_activations import LeakyReLU\n",
    "from sklearn.model_selection import StratifiedKFold\n",
    "from tensorflow.keras.layers.experimental.preprocessing import Rescaling\n",
    "\n",
    "from sklearn.model_selection import train_test_split\n",
    "from sklearn.metrics import classification_report\n",
    "from sklearn.metrics import confusion_matrix\n",
    "\n",
    "from cleanlab.noise_generation import generate_noisy_labels\n",
    "from cleanlab.util import print_noise_matrix\n",
    "from cleanlab import baseline_methods\n",
    "from cleanlab.latent_estimation import compute_confident_joint"
   ]
  },
  {
   "cell_type": "code",
   "execution_count": 2,
   "id": "e1f9e7a3",
   "metadata": {},
   "outputs": [],
   "source": [
    "def plot_confusion_matrix(cm,\n",
    "                          target_names,\n",
    "                          title='Confusion matrix',\n",
    "                          cmap=None,\n",
    "                          normalize=True):\n",
    "    \"\"\"\n",
    "    given a sklearn confusion matrix (cm), make a nice plot\n",
    "\n",
    "    Arguments\n",
    "    ---------\n",
    "    cm:           confusion matrix from sklearn.metrics.confusion_matrix\n",
    "\n",
    "    target_names: given classification classes such as [0, 1, 2]\n",
    "                  the class names, for example: ['high', 'medium', 'low']\n",
    "\n",
    "    title:        the text to display at the top of the matrix\n",
    "\n",
    "    cmap:         the gradient of the values displayed from matplotlib.pyplot.cm\n",
    "                  see http://matplotlib.org/examples/color/colormaps_reference.html\n",
    "                  plt.get_cmap('jet') or plt.cm.Blues\n",
    "\n",
    "    normalize:    If False, plot the raw numbers\n",
    "                  If True, plot the proportions\n",
    "\n",
    "    Usage\n",
    "    -----\n",
    "    plot_confusion_matrix(cm           = cm,                  # confusion matrix created by\n",
    "                                                              # sklearn.metrics.confusion_matrix\n",
    "                          normalize    = True,                # show proportions\n",
    "                          target_names = y_labels_vals,       # list of names of the classes\n",
    "                          title        = best_estimator_name) # title of graph\n",
    "\n",
    "    Citiation\n",
    "    ---------\n",
    "    http://scikit-learn.org/stable/auto_examples/model_selection/plot_confusion_matrix.html\n",
    "\n",
    "    \"\"\"\n",
    "    import matplotlib.pyplot as plt\n",
    "    import numpy as np\n",
    "    import itertools\n",
    "\n",
    "    accuracy = np.trace(cm) / float(np.sum(cm))\n",
    "    misclass = 1 - accuracy\n",
    "\n",
    "    if cmap is None:\n",
    "        cmap = plt.get_cmap('Blues')\n",
    "\n",
    "    plt.figure(figsize=(16, 12))\n",
    "    plt.imshow(cm, interpolation='nearest', cmap=cmap)\n",
    "    plt.title(title)\n",
    "    plt.colorbar()\n",
    "\n",
    "    if target_names is not None:\n",
    "        tick_marks = np.arange(len(target_names))\n",
    "        plt.xticks(tick_marks, target_names, rotation=45)\n",
    "        plt.yticks(tick_marks, target_names)\n",
    "\n",
    "    if normalize:\n",
    "        cm = cm.astype('float') / cm.sum(axis=1)[:, np.newaxis]\n",
    "\n",
    "\n",
    "    thresh = cm.max() / 1.5 if normalize else cm.max() / 2\n",
    "    for i, j in itertools.product(range(cm.shape[0]), range(cm.shape[1])):\n",
    "        if normalize:\n",
    "            plt.text(j, i, \"{:0.2f}\".format(cm[i, j]),\n",
    "                     horizontalalignment=\"center\",\n",
    "                     color=\"white\" if cm[i, j] > thresh else \"black\")\n",
    "        else:\n",
    "            plt.text(j, i, \"{:,}\".format(cm[i, j]),\n",
    "                     horizontalalignment=\"center\",\n",
    "                     color=\"white\" if cm[i, j] > thresh else \"black\")\n",
    "\n",
    "\n",
    "    plt.tight_layout()\n",
    "    plt.ylabel('True label')\n",
    "    plt.xlabel('Predicted label\\naccuracy={:0.4f}; misclass={:0.4f}'.format(accuracy, misclass))\n",
    "    plt.show()\n",
    "    \n",
    "    \n",
    "def acc_loss_plot(network):\n",
    "    accuracy = network.history['accuracy']\n",
    "    val_accuracy = network.history['val_accuracy']\n",
    "    loss = network.history['loss']\n",
    "    val_loss = network.history['val_loss']\n",
    "    epochs = range(len(accuracy))\n",
    "    plt.plot(epochs, accuracy, 'bo', label='Training accuracy')\n",
    "    plt.plot(epochs, val_accuracy, 'c', label='Validation accuracy')\n",
    "    plt.title('Training and validation accuracy')\n",
    "    plt.legend()\n",
    "    plt.figure()\n",
    "    plt.plot(epochs, loss, 'bo', label='Training loss')\n",
    "    plt.plot(epochs, val_loss, 'c', label='Validation loss')\n",
    "    plt.title('Training and validation loss')\n",
    "    plt.legend()\n",
    "    plt.show()"
   ]
  },
  {
   "cell_type": "markdown",
   "id": "c7455e0d",
   "metadata": {
    "id": "transsexual-decision"
   },
   "source": [
    "## Lectura de les dades"
   ]
  },
  {
   "cell_type": "code",
   "execution_count": 3,
   "id": "71a7c345",
   "metadata": {
    "scrolled": true
   },
   "outputs": [
    {
     "name": "stdout",
     "output_type": "stream",
     "text": [
      "2.6.0\n"
     ]
    }
   ],
   "source": [
    "print(tf. __version__)"
   ]
  },
  {
   "cell_type": "code",
   "execution_count": 4,
   "id": "2afbd7f1",
   "metadata": {
    "colab": {
     "base_uri": "https://localhost:8080/"
    },
    "executionInfo": {
     "elapsed": 28264,
     "status": "ok",
     "timestamp": 1638284310466,
     "user": {
      "displayName": "Aida Fernandez",
      "photoUrl": "https://lh3.googleusercontent.com/a/default-user=s64",
      "userId": "06772576507680919815"
     },
     "user_tz": -60
    },
    "id": "tC7AESnKeKC6",
    "outputId": "0d284775-c8bd-44a2-b2a8-c901f140af35",
    "scrolled": false
   },
   "outputs": [
    {
     "data": {
      "text/plain": [
       "'C:\\\\Users\\\\aidaf\\\\TFG'"
      ]
     },
     "execution_count": 4,
     "metadata": {},
     "output_type": "execute_result"
    }
   ],
   "source": [
    "os.getcwd()"
   ]
  },
  {
   "cell_type": "code",
   "execution_count": 5,
   "id": "610d135e",
   "metadata": {
    "id": "ukoFgnSEkhUd"
   },
   "outputs": [
    {
     "data": {
      "text/plain": [
       "'C:\\\\Users\\\\aidaf\\\\TFG\\\\reduced'"
      ]
     },
     "execution_count": 5,
     "metadata": {},
     "output_type": "execute_result"
    }
   ],
   "source": [
    "data_dir = os.path.join(os.getcwd() + \"\\\\reduced\")\n",
    "data_dir"
   ]
  },
  {
   "cell_type": "code",
   "execution_count": 6,
   "id": "883368bc",
   "metadata": {},
   "outputs": [
    {
     "name": "stdout",
     "output_type": "stream",
     "text": [
      "['colon_aca', 'colon_n', 'lung_aca', 'lung_n', 'lung_scc']\n"
     ]
    }
   ],
   "source": [
    "classes = os. listdir(data_dir)\n",
    "print(classes)"
   ]
  },
  {
   "cell_type": "code",
   "execution_count": 7,
   "id": "43dacf52",
   "metadata": {
    "scrolled": true
   },
   "outputs": [],
   "source": [
    "dades_Y = np.load('labels_reduced.npy')\n",
    "dades_X = np.load('images_reduced.npy')"
   ]
  },
  {
   "cell_type": "markdown",
   "id": "c0ddeb48",
   "metadata": {
    "id": "bright-brisbane"
   },
   "source": [
    "## Descripció de les dades"
   ]
  },
  {
   "cell_type": "markdown",
   "id": "3291ae07",
   "metadata": {
    "id": "excess-dictionary"
   },
   "source": [
    "Dimensió: "
   ]
  },
  {
   "cell_type": "code",
   "execution_count": 8,
   "id": "b8bedda0",
   "metadata": {
    "id": "relative-apartment",
    "scrolled": true
   },
   "outputs": [
    {
     "name": "stdout",
     "output_type": "stream",
     "text": [
      "Dimensions de les dades :  (4500, 120, 120, 3) (4500,)\n"
     ]
    }
   ],
   "source": [
    "print('Dimensions de les dades : ', dades_X.shape, dades_Y.shape)"
   ]
  },
  {
   "cell_type": "markdown",
   "id": "f857531c",
   "metadata": {
    "id": "diagnostic-individual"
   },
   "source": [
    "Nombre de classes i etiquetes: "
   ]
  },
  {
   "cell_type": "code",
   "execution_count": 9,
   "id": "c908c60b",
   "metadata": {
    "id": "close-frontier"
   },
   "outputs": [
    {
     "name": "stdout",
     "output_type": "stream",
     "text": [
      "Nombre de classes :  5\n",
      "Etiquetes de les classes :  ['colon_aca', 'colon_n', 'lung_aca', 'lung_n', 'lung_scc']\n"
     ]
    }
   ],
   "source": [
    "n_classes = len(classes)\n",
    "print('Nombre de classes : ', n_classes)\n",
    "print('Etiquetes de les classes : ', classes)"
   ]
  },
  {
   "cell_type": "markdown",
   "id": "07a58a67",
   "metadata": {
    "id": "unsigned-marathon"
   },
   "source": [
    "Distribució de les classes: "
   ]
  },
  {
   "cell_type": "code",
   "execution_count": 10,
   "id": "a0e9471a",
   "metadata": {
    "id": "fossil-lancaster",
    "scrolled": true
   },
   "outputs": [
    {
     "name": "stdout",
     "output_type": "stream",
     "text": [
      "Distribució de les classes :  Counter({0: 900, 3: 900, 1: 900, 4: 900, 2: 900})\n"
     ]
    }
   ],
   "source": [
    "print(\"Distribució de les classes : \",collections.Counter(dades_Y))"
   ]
  },
  {
   "cell_type": "markdown",
   "id": "bac9db4e",
   "metadata": {},
   "source": [
    "## Methods to Standardize Research with Noisy Labels"
   ]
  },
  {
   "cell_type": "code",
   "execution_count": 11,
   "id": "e26883e5",
   "metadata": {},
   "outputs": [
    {
     "data": {
      "text/plain": [
       "array([ True,  True,  True,  True,  True])"
      ]
     },
     "execution_count": 11,
     "metadata": {},
     "output_type": "execute_result"
    }
   ],
   "source": [
    "noise_matrix = np.array([[.97,.03,0,0,0],\n",
    "                         [.03,.97,0,0,0],\n",
    "                         [0,0,.87,.01,.12],\n",
    "                         [0,0,.02,.98,0],\n",
    "                         [0,0,.08,0,.92]])\n",
    "\n",
    "np.sum(noise_matrix,1) == 1"
   ]
  },
  {
   "cell_type": "code",
   "execution_count": 12,
   "id": "d923a11b",
   "metadata": {
    "scrolled": true
   },
   "outputs": [
    {
     "name": "stdout",
     "output_type": "stream",
     "text": [
      "\n",
      " Noise Matrix (aka Noisy Channel) P(s|y) of shape (5, 5)\n",
      " p(s|y)\ty=0\ty=1\ty=2\ty=3\ty=4\n",
      "\t---\t---\t---\t---\t---\n",
      "s=0 |\t0.97\t0.03\t0.0\t0.0\t0.0\n",
      "s=1 |\t0.03\t0.97\t0.0\t0.0\t0.0\n",
      "s=2 |\t0.0\t0.0\t0.87\t0.01\t0.12\n",
      "s=3 |\t0.0\t0.0\t0.02\t0.98\t0.0\n",
      "s=4 |\t0.0\t0.0\t0.08\t0.0\t0.92\n",
      "\tTrace(matrix) = 4.71\n",
      "\n",
      "------------------------------------------------------\n",
      "% d'etiquetes netes:  0.942\n",
      "------------------------------------------------------\n",
      "(4050, 120, 120, 3) (450, 120, 120, 3) (4050, 5) (450, 5)\n",
      "------------------------------------------------------\n",
      "Distribució de les classes :  Counter({2: 927, 3: 909, 0: 900, 1: 900, 4: 864})\n"
     ]
    }
   ],
   "source": [
    "print_noise_matrix(noise_matrix)\n",
    "np.random.seed(seed=1)\n",
    "# Create the noisy labels. This method is exact w.r.t. the noise_matrix.\n",
    "y_train_w_errors = generate_noisy_labels(dades_Y, noise_matrix)\n",
    "\n",
    "\n",
    "print(\"------------------------------------------------------\")\n",
    "print(\"% d'etiquetes netes: \",sum(y_train_w_errors == dades_Y)/len(dades_Y))\n",
    "\n",
    "print(\"------------------------------------------------------\")\n",
    "\n",
    "dades_Y_one_hot_noisy = np.array(pd.get_dummies(y_train_w_errors))\n",
    "dades_Y_one_hot_noisy = dades_Y_one_hot_noisy.astype('float32')\n",
    "\n",
    "train_X,valid_X,train_label_noisy,valid_label_noisy = train_test_split(dades_X, dades_Y_one_hot_noisy, test_size=0.1, \n",
    "                                                           random_state=13,stratify=dades_Y_one_hot_noisy)\n",
    "\n",
    "print(train_X.shape,valid_X.shape,train_label_noisy.shape,valid_label_noisy.shape)\n",
    "\n",
    "print(\"------------------------------------------------------\")\n",
    "\n",
    "print(\"Distribució de les classes : \",collections.Counter(y_train_w_errors))"
   ]
  },
  {
   "cell_type": "code",
   "execution_count": 13,
   "id": "40e7679f",
   "metadata": {},
   "outputs": [],
   "source": [
    "model = Sequential()\n",
    "model.add(Rescaling(1./255, input_shape=(dades_X.shape[1],dades_X.shape[2],3)))\n",
    "model.add(Conv2D(32, kernel_size=(3, 3),activation='linear', padding='same'))\n",
    "model.add(LeakyReLU(alpha=0.1))\n",
    "model.add(MaxPooling2D((2, 2),padding='same'))\n",
    "model.add(Conv2D(64, (3, 3), activation='linear',padding='same'))\n",
    "model.add(LeakyReLU(alpha=0.1))\n",
    "model.add(MaxPooling2D(pool_size=(2, 2),padding='same'))\n",
    "model.add(Conv2D(128, (3, 3), activation='linear',padding='same'))\n",
    "model.add(LeakyReLU(alpha=0.1))\n",
    "model.add(MaxPooling2D(pool_size=(2, 2),padding='same'))\n",
    "model.add(Flatten())\n",
    "model.add(Dense(128, activation='linear'))\n",
    "model.add(LeakyReLU(alpha=0.1))\n",
    "model.add(Dropout(0.4))\n",
    "model.add(Dense(n_classes, activation='softmax'))"
   ]
  },
  {
   "cell_type": "code",
   "execution_count": 14,
   "id": "bbb9d9fe",
   "metadata": {},
   "outputs": [],
   "source": [
    "# fit model on the augmented dataset\n",
    "# initialize the number of epochs and batch size\n",
    "EPOCHS = 20\n",
    "BS = 64\n",
    "\n",
    "model.compile(loss=keras.losses.categorical_crossentropy, \n",
    "              optimizer=keras.optimizers.Adam(),metrics=['accuracy'])"
   ]
  },
  {
   "cell_type": "code",
   "execution_count": 15,
   "id": "a59a7523",
   "metadata": {
    "scrolled": true
   },
   "outputs": [],
   "source": [
    "# train the network\n",
    "# H = model.fit(train_X, train_label_noisy, batch_size=BS, epochs=EPOCHS,\n",
    "#              verbose=1, validation_data=(valid_X, valid_label_noisy))"
   ]
  },
  {
   "cell_type": "code",
   "execution_count": 16,
   "id": "b7558e52",
   "metadata": {},
   "outputs": [],
   "source": [
    "#model.save(\"model_94.h5\")"
   ]
  },
  {
   "cell_type": "code",
   "execution_count": 17,
   "id": "7e0427e9",
   "metadata": {
    "scrolled": true
   },
   "outputs": [
    {
     "name": "stdout",
     "output_type": "stream",
     "text": [
      "Test loss: 0.8782193064689636\n",
      "Test accuracy: 0.8199999928474426\n"
     ]
    }
   ],
   "source": [
    "def_model = keras.models.load_model('model_94.h5')\n",
    "test_eval = def_model.evaluate(valid_X,valid_label_noisy, verbose=0)\n",
    "\n",
    "print('Test loss:', test_eval[0])\n",
    "print('Test accuracy:', test_eval[1])"
   ]
  },
  {
   "cell_type": "code",
   "execution_count": 18,
   "id": "b59b71f1",
   "metadata": {},
   "outputs": [],
   "source": [
    "predicted_classes = def_model.predict(valid_X)\n",
    "predicted_classes = np.argmax(np.round(predicted_classes),axis=1)\n",
    "valid_labels_noisy = np.argmax(np.round(valid_label_noisy),axis=1)"
   ]
  },
  {
   "cell_type": "code",
   "execution_count": 20,
   "id": "9857b9d7",
   "metadata": {
    "scrolled": false
   },
   "outputs": [],
   "source": [
    "# acc_loss_plot(H)"
   ]
  },
  {
   "cell_type": "code",
   "execution_count": 21,
   "id": "b6629a49",
   "metadata": {
    "scrolled": true
   },
   "outputs": [
    {
     "data": {
      "image/png": "[encoded data removed]",
      "text/plain": [
       "<Figure size 1152x864 with 2 Axes>"
      ]
     },
     "metadata": {
      "needs_background": "light"
     },
     "output_type": "display_data"
    }
   ],
   "source": [
    "plot_confusion_matrix(confusion_matrix(valid_labels_noisy, predicted_classes), target_names = classes)"
   ]
  },
  {
   "cell_type": "code",
   "execution_count": 22,
   "id": "e9e4d766",
   "metadata": {},
   "outputs": [
    {
     "name": "stdout",
     "output_type": "stream",
     "text": [
      "              precision    recall  f1-score   support\n",
      "\n",
      "   colon_aca       0.88      0.78      0.82        90\n",
      "     colon_n       0.82      0.91      0.86        90\n",
      "    lung_aca       0.72      0.70      0.71        93\n",
      "      lung_n       0.92      0.95      0.93        91\n",
      "    lung_scc       0.76      0.77      0.76        86\n",
      "\n",
      "    accuracy                           0.82       450\n",
      "   macro avg       0.82      0.82      0.82       450\n",
      "weighted avg       0.82      0.82      0.82       450\n",
      "\n"
     ]
    }
   ],
   "source": [
    "target_names = [\"Class {}\".format(i) for i in range(n_classes)]\n",
    "print(classification_report(valid_labels_noisy, predicted_classes, target_names=classes))"
   ]
  },
  {
   "cell_type": "markdown",
   "id": "85de7172",
   "metadata": {},
   "source": [
    "### Comprovem com ho fa el model amb la petita base de dades neta"
   ]
  },
  {
   "cell_type": "code",
   "execution_count": 23,
   "id": "111c84ac",
   "metadata": {},
   "outputs": [
    {
     "data": {
      "text/plain": [
       "((500, 120, 120, 3), (500,))"
      ]
     },
     "execution_count": 23,
     "metadata": {},
     "output_type": "execute_result"
    }
   ],
   "source": [
    "clean_Y = np.load('labels_reduced_clean.npy')\n",
    "clean_X = np.load('images_reduced_clean.npy')\n",
    "\n",
    "clean_X.shape, clean_Y.shape"
   ]
  },
  {
   "cell_type": "code",
   "execution_count": 24,
   "id": "6c6f5974",
   "metadata": {},
   "outputs": [],
   "source": [
    "prediction = def_model.predict(clean_X)\n",
    "pred_labs = []\n",
    "\n",
    "for i in range(len(prediction)):\n",
    "    pred_labs.append(np.argmax(prediction[i]))"
   ]
  },
  {
   "cell_type": "code",
   "execution_count": 25,
   "id": "880cafe4",
   "metadata": {
    "scrolled": false
   },
   "outputs": [
    {
     "data": {
      "text/plain": [
       "0.874"
      ]
     },
     "execution_count": 25,
     "metadata": {},
     "output_type": "execute_result"
    }
   ],
   "source": [
    "sum(pred_labs == clean_Y)/len(clean_Y)"
   ]
  },
  {
   "cell_type": "markdown",
   "id": "e1b650f4",
   "metadata": {},
   "source": [
    "----------------------------------------------------\n",
    "# Augmentem el soroll"
   ]
  },
  {
   "cell_type": "code",
   "execution_count": 26,
   "id": "f5f390e5",
   "metadata": {},
   "outputs": [
    {
     "data": {
      "text/plain": [
       "array([ True,  True,  True,  True,  True])"
      ]
     },
     "execution_count": 26,
     "metadata": {},
     "output_type": "execute_result"
    }
   ],
   "source": [
    "noise_matrix = np.array([[.9,.1,0,0,0],\n",
    "                         [.1,.9,0,0,0],\n",
    "                         [0,0,.8,.1,.1],\n",
    "                         [0,0,.1,.9,0],\n",
    "                         [0,0,.1,0,.90]])\n",
    "\n",
    "np.sum(noise_matrix,1) == 1"
   ]
  },
  {
   "cell_type": "code",
   "execution_count": 27,
   "id": "b221a6f9",
   "metadata": {
    "scrolled": true
   },
   "outputs": [
    {
     "name": "stdout",
     "output_type": "stream",
     "text": [
      "\n",
      " Noise Matrix (aka Noisy Channel) P(s|y) of shape (5, 5)\n",
      " p(s|y)\ty=0\ty=1\ty=2\ty=3\ty=4\n",
      "\t---\t---\t---\t---\t---\n",
      "s=0 |\t0.9\t0.1\t0.0\t0.0\t0.0\n",
      "s=1 |\t0.1\t0.9\t0.0\t0.0\t0.0\n",
      "s=2 |\t0.0\t0.0\t0.8\t0.1\t0.1\n",
      "s=3 |\t0.0\t0.0\t0.1\t0.9\t0.0\n",
      "s=4 |\t0.0\t0.0\t0.1\t0.0\t0.9\n",
      "\tTrace(matrix) = 4.4\n",
      "\n",
      "------------------------------------------------------\n",
      "% d'etiquetes netes:  0.88\n",
      "------------------------------------------------------\n",
      "(4050, 120, 120, 3) (450, 120, 120, 3) (4050, 5) (450, 5)\n",
      "------------------------------------------------------\n",
      "Distribució de les classes :  Counter({0: 900, 3: 900, 1: 900, 4: 900, 2: 900})\n"
     ]
    }
   ],
   "source": [
    "print_noise_matrix(noise_matrix)\n",
    "np.random.seed(seed=1)\n",
    "# Create the noisy labels. This method is exact w.r.t. the noise_matrix.\n",
    "y_train_w_errors = generate_noisy_labels(dades_Y, noise_matrix)\n",
    "\n",
    "\n",
    "print(\"------------------------------------------------------\")\n",
    "print(\"% d'etiquetes netes: \",sum(y_train_w_errors == dades_Y)/len(dades_Y))\n",
    "\n",
    "print(\"------------------------------------------------------\")\n",
    "\n",
    "dades_Y_one_hot_noisy = np.array(pd.get_dummies(y_train_w_errors))\n",
    "dades_Y_one_hot_noisy = dades_Y_one_hot_noisy.astype('float32')\n",
    "\n",
    "train_X,valid_X,train_label_noisy,valid_label_noisy = train_test_split(dades_X, dades_Y_one_hot_noisy, test_size=0.1, \n",
    "                                                           random_state=13,stratify=dades_Y_one_hot_noisy)\n",
    "\n",
    "print(train_X.shape,valid_X.shape,train_label_noisy.shape,valid_label_noisy.shape)\n",
    "\n",
    "print(\"------------------------------------------------------\")\n",
    "\n",
    "print(\"Distribució de les classes : \",collections.Counter(y_train_w_errors))"
   ]
  },
  {
   "cell_type": "code",
   "execution_count": 28,
   "id": "4c010c2f",
   "metadata": {
    "scrolled": true
   },
   "outputs": [],
   "source": [
    "# train the network\n",
    "# H = model.fit(train_X, train_label_noisy, batch_size=BS, epochs=EPOCHS,\n",
    "#               verbose=1, validation_data=(valid_X, valid_label_noisy))"
   ]
  },
  {
   "cell_type": "code",
   "execution_count": 29,
   "id": "977e0ec3",
   "metadata": {},
   "outputs": [],
   "source": [
    "#model.save(\"model_88.h5\")"
   ]
  },
  {
   "cell_type": "code",
   "execution_count": 30,
   "id": "a2fecb8b",
   "metadata": {
    "scrolled": true
   },
   "outputs": [
    {
     "name": "stdout",
     "output_type": "stream",
     "text": [
      "Test loss: 0.958443284034729\n",
      "Test accuracy: 0.8666666746139526\n"
     ]
    }
   ],
   "source": [
    "def_model = keras.models.load_model('model_88.h5')\n",
    "test_eval = def_model.evaluate(valid_X,valid_label_noisy, verbose=0)\n",
    "\n",
    "print('Test loss:', test_eval[0])\n",
    "print('Test accuracy:', test_eval[1])"
   ]
  },
  {
   "cell_type": "code",
   "execution_count": 31,
   "id": "04a8bcb9",
   "metadata": {},
   "outputs": [],
   "source": [
    "predicted_classes = def_model.predict(valid_X)\n",
    "predicted_classes = np.argmax(np.round(predicted_classes),axis=1)\n",
    "valid_labels_noisy = np.argmax(np.round(valid_label_noisy),axis=1)"
   ]
  },
  {
   "cell_type": "code",
   "execution_count": 32,
   "id": "a92fc1d7",
   "metadata": {},
   "outputs": [],
   "source": [
    "# acc_loss_plot(H)"
   ]
  },
  {
   "cell_type": "code",
   "execution_count": 33,
   "id": "cfb9dbe6",
   "metadata": {
    "scrolled": true
   },
   "outputs": [
    {
     "data": {
      "image/png": "[encoded data removed]",
      "text/plain": [
       "<Figure size 1152x864 with 2 Axes>"
      ]
     },
     "metadata": {
      "needs_background": "light"
     },
     "output_type": "display_data"
    }
   ],
   "source": [
    "plot_confusion_matrix(confusion_matrix(valid_labels_noisy, predicted_classes), target_names = classes)"
   ]
  },
  {
   "cell_type": "code",
   "execution_count": 34,
   "id": "dcc1270b",
   "metadata": {},
   "outputs": [
    {
     "name": "stdout",
     "output_type": "stream",
     "text": [
      "              precision    recall  f1-score   support\n",
      "\n",
      "   colon_aca       0.89      0.84      0.87        90\n",
      "     colon_n       0.85      0.91      0.88        90\n",
      "    lung_aca       0.77      0.83      0.80        90\n",
      "      lung_n       0.91      0.92      0.92        90\n",
      "    lung_scc       0.90      0.81      0.85        90\n",
      "\n",
      "    accuracy                           0.86       450\n",
      "   macro avg       0.87      0.86      0.86       450\n",
      "weighted avg       0.87      0.86      0.86       450\n",
      "\n"
     ]
    }
   ],
   "source": [
    "target_names = [\"Class {}\".format(i) for i in range(n_classes)]\n",
    "print(classification_report(valid_labels_noisy, predicted_classes, target_names=classes))"
   ]
  },
  {
   "cell_type": "markdown",
   "id": "ca9f4c49",
   "metadata": {},
   "source": [
    "### Comprovem com ho fa el model amb la petita base de dades neta"
   ]
  },
  {
   "cell_type": "code",
   "execution_count": 35,
   "id": "58fbbd31",
   "metadata": {},
   "outputs": [],
   "source": [
    "prediction = def_model.predict(clean_X)\n",
    "pred_labs = []\n",
    "\n",
    "for i in range(len(prediction)):\n",
    "    pred_labs.append(np.argmax(prediction[i]))"
   ]
  },
  {
   "cell_type": "code",
   "execution_count": 36,
   "id": "b52cc3ac",
   "metadata": {},
   "outputs": [
    {
     "data": {
      "text/plain": [
       "0.85"
      ]
     },
     "execution_count": 36,
     "metadata": {},
     "output_type": "execute_result"
    }
   ],
   "source": [
    "sum(pred_labs == clean_Y)/len(clean_Y)"
   ]
  },
  {
   "cell_type": "markdown",
   "id": "25089691",
   "metadata": {},
   "source": [
    "# Augmentem encara més el soroll"
   ]
  },
  {
   "cell_type": "code",
   "execution_count": 37,
   "id": "b37675d6",
   "metadata": {},
   "outputs": [
    {
     "data": {
      "text/plain": [
       "array([ True,  True,  True,  True,  True])"
      ]
     },
     "execution_count": 37,
     "metadata": {},
     "output_type": "execute_result"
    }
   ],
   "source": [
    "noise_matrix = np.array([[.8,.17,.01,.01,.01],\n",
    "                         [.17,.8,.01,.01,.01],\n",
    "                         [.01,.01,.7,.14,.14],\n",
    "                         [.01,.01,.12,.76,.1],\n",
    "                         [.01,.01,.17,.01,.8]])\n",
    "\n",
    "np.sum(noise_matrix,1) == 1"
   ]
  },
  {
   "cell_type": "code",
   "execution_count": 38,
   "id": "8217c610",
   "metadata": {},
   "outputs": [
    {
     "name": "stdout",
     "output_type": "stream",
     "text": [
      "\n",
      " Noise Matrix (aka Noisy Channel) P(s|y) of shape (5, 5)\n",
      " p(s|y)\ty=0\ty=1\ty=2\ty=3\ty=4\n",
      "\t---\t---\t---\t---\t---\n",
      "s=0 |\t0.8\t0.17\t0.01\t0.01\t0.01\n",
      "s=1 |\t0.17\t0.8\t0.01\t0.01\t0.01\n",
      "s=2 |\t0.01\t0.01\t0.7\t0.14\t0.14\n",
      "s=3 |\t0.01\t0.01\t0.12\t0.76\t0.1\n",
      "s=4 |\t0.01\t0.01\t0.17\t0.01\t0.8\n",
      "\tTrace(matrix) = 3.86\n",
      "\n",
      "------------------------------------------------------\n",
      "% d'etiquetes netes:  0.772\n",
      "------------------------------------------------------\n",
      "(4050, 120, 120, 3) (450, 120, 120, 3) (4050, 5) (450, 5)\n",
      "------------------------------------------------------\n",
      "Distribució de les classes :  Counter({3: 963, 0: 900, 1: 900, 2: 891, 4: 846})\n"
     ]
    }
   ],
   "source": [
    "print_noise_matrix(noise_matrix)\n",
    "np.random.seed(seed=1)\n",
    "# Create the noisy labels. This method is exact w.r.t. the noise_matrix.\n",
    "y_train_w_errors = generate_noisy_labels(dades_Y, noise_matrix)\n",
    "\n",
    "\n",
    "print(\"------------------------------------------------------\")\n",
    "print(\"% d'etiquetes netes: \",sum(y_train_w_errors == dades_Y)/len(dades_Y))\n",
    "\n",
    "print(\"------------------------------------------------------\")\n",
    "\n",
    "dades_Y_one_hot_noisy = np.array(pd.get_dummies(y_train_w_errors))\n",
    "dades_Y_one_hot_noisy = dades_Y_one_hot_noisy.astype('float32')\n",
    "\n",
    "train_X,valid_X,train_label_noisy,valid_label_noisy = train_test_split(dades_X, dades_Y_one_hot_noisy, test_size=0.1, \n",
    "                                                           random_state=13,stratify=dades_Y_one_hot_noisy)\n",
    "\n",
    "print(train_X.shape,valid_X.shape,train_label_noisy.shape,valid_label_noisy.shape)\n",
    "\n",
    "print(\"------------------------------------------------------\")\n",
    "\n",
    "print(\"Distribució de les classes : \",collections.Counter(y_train_w_errors))"
   ]
  },
  {
   "cell_type": "code",
   "execution_count": 39,
   "id": "55f82490",
   "metadata": {
    "scrolled": true
   },
   "outputs": [],
   "source": [
    "# train the network\n",
    "# H = model.fit(train_X, train_label_noisy, batch_size=BS, epochs=EPOCHS,\n",
    "#               verbose=1, validation_data=(valid_X, valid_label_noisy))"
   ]
  },
  {
   "cell_type": "code",
   "execution_count": 40,
   "id": "afb42e55",
   "metadata": {},
   "outputs": [],
   "source": [
    "#model.save(\"model_78.h5\")"
   ]
  },
  {
   "cell_type": "code",
   "execution_count": 41,
   "id": "1dce1ed6",
   "metadata": {},
   "outputs": [
    {
     "name": "stdout",
     "output_type": "stream",
     "text": [
      "Test loss: 1.1232725381851196\n",
      "Test accuracy: 0.8822222352027893\n"
     ]
    }
   ],
   "source": [
    "def_model = keras.models.load_model('model_78.h5')\n",
    "test_eval = def_model.evaluate(valid_X,valid_label_noisy, verbose=0)\n",
    "\n",
    "print('Test loss:', test_eval[0])\n",
    "print('Test accuracy:', test_eval[1])"
   ]
  },
  {
   "cell_type": "code",
   "execution_count": 42,
   "id": "6a42c878",
   "metadata": {},
   "outputs": [],
   "source": [
    "predicted_classes = def_model.predict(valid_X)\n",
    "predicted_classes = np.argmax(np.round(predicted_classes),axis=1)\n",
    "valid_labels_noisy = np.argmax(np.round(valid_label_noisy),axis=1)"
   ]
  },
  {
   "cell_type": "code",
   "execution_count": 43,
   "id": "7f27031e",
   "metadata": {},
   "outputs": [],
   "source": [
    "# acc_loss_plot(H)"
   ]
  },
  {
   "cell_type": "code",
   "execution_count": 44,
   "id": "346f418a",
   "metadata": {
    "scrolled": false
   },
   "outputs": [
    {
     "data": {
      "image/png": "[encoded data removed]",
      "text/plain": [
       "<Figure size 1152x864 with 2 Axes>"
      ]
     },
     "metadata": {
      "needs_background": "light"
     },
     "output_type": "display_data"
    }
   ],
   "source": [
    "plot_confusion_matrix(confusion_matrix(valid_labels_noisy, predicted_classes), target_names = classes)"
   ]
  },
  {
   "cell_type": "code",
   "execution_count": 45,
   "id": "f87560cb",
   "metadata": {},
   "outputs": [
    {
     "name": "stdout",
     "output_type": "stream",
     "text": [
      "              precision    recall  f1-score   support\n",
      "\n",
      "   colon_aca       0.88      0.81      0.84        90\n",
      "     colon_n       0.86      0.86      0.86        90\n",
      "    lung_aca       0.96      0.96      0.96        89\n",
      "      lung_n       0.89      0.86      0.88        96\n",
      "    lung_scc       0.83      0.93      0.88        85\n",
      "\n",
      "    accuracy                           0.88       450\n",
      "   macro avg       0.88      0.88      0.88       450\n",
      "weighted avg       0.88      0.88      0.88       450\n",
      "\n"
     ]
    }
   ],
   "source": [
    "target_names = [\"Class {}\".format(i) for i in range(n_classes)]\n",
    "print(classification_report(valid_labels_noisy, predicted_classes, target_names=classes))"
   ]
  },
  {
   "cell_type": "markdown",
   "id": "065f7bfd",
   "metadata": {},
   "source": [
    "### Comprovem com ho fa el model amb la petita base de dades neta"
   ]
  },
  {
   "cell_type": "code",
   "execution_count": 46,
   "id": "36c1e220",
   "metadata": {},
   "outputs": [],
   "source": [
    "prediction = def_model.predict(clean_X)\n",
    "pred_labs = []\n",
    "\n",
    "for i in range(len(prediction)):\n",
    "    pred_labs.append(np.argmax(prediction[i]))"
   ]
  },
  {
   "cell_type": "code",
   "execution_count": 47,
   "id": "7af8664b",
   "metadata": {},
   "outputs": [
    {
     "data": {
      "text/plain": [
       "0.754"
      ]
     },
     "execution_count": 47,
     "metadata": {},
     "output_type": "execute_result"
    }
   ],
   "source": [
    "sum(pred_labs == clean_Y)/len(clean_Y)"
   ]
  },
  {
   "cell_type": "markdown",
   "id": "f30f9175",
   "metadata": {},
   "source": [
    "# Augmentem encara més el soroll"
   ]
  },
  {
   "cell_type": "code",
   "execution_count": 48,
   "id": "d67d2e62",
   "metadata": {},
   "outputs": [
    {
     "data": {
      "text/plain": [
       "array([ True,  True,  True,  True,  True])"
      ]
     },
     "execution_count": 48,
     "metadata": {},
     "output_type": "execute_result"
    }
   ],
   "source": [
    "noise_matrix = np.array([[.7,.2,.04,.03,.03],\n",
    "                         [.2,.7,.04,.03,.03],\n",
    "                         [.05,.01,.68,.13,.13],\n",
    "                         [.01,.02,.12,.7,.15],\n",
    "                         [.04,.04,.17,.05,.7]])\n",
    "\n",
    "np.sum(noise_matrix,1) == 1"
   ]
  },
  {
   "cell_type": "code",
   "execution_count": 49,
   "id": "59c8a600",
   "metadata": {},
   "outputs": [
    {
     "name": "stdout",
     "output_type": "stream",
     "text": [
      "\n",
      " Noise Matrix (aka Noisy Channel) P(s|y) of shape (5, 5)\n",
      " p(s|y)\ty=0\ty=1\ty=2\ty=3\ty=4\n",
      "\t---\t---\t---\t---\t---\n",
      "s=0 |\t0.7\t0.2\t0.04\t0.03\t0.03\n",
      "s=1 |\t0.2\t0.7\t0.04\t0.03\t0.03\n",
      "s=2 |\t0.05\t0.01\t0.68\t0.13\t0.13\n",
      "s=3 |\t0.01\t0.02\t0.12\t0.7\t0.15\n",
      "s=4 |\t0.04\t0.04\t0.17\t0.05\t0.7\n",
      "\tTrace(matrix) = 3.48\n",
      "\n",
      "------------------------------------------------------\n",
      "% d'etiquetes netes:  0.696\n",
      "------------------------------------------------------\n",
      "(4050, 120, 120, 3) (450, 120, 120, 3) (4050, 5) (450, 5)\n",
      "------------------------------------------------------\n",
      "Distribució de les classes :  Counter({3: 954, 1: 927, 0: 900, 4: 864, 2: 855})\n"
     ]
    }
   ],
   "source": [
    "print_noise_matrix(noise_matrix)\n",
    "np.random.seed(seed=1)\n",
    "# Create the noisy labels. This method is exact w.r.t. the noise_matrix.\n",
    "y_train_w_errors = generate_noisy_labels(dades_Y, noise_matrix)\n",
    "\n",
    "\n",
    "print(\"------------------------------------------------------\")\n",
    "print(\"% d'etiquetes netes: \",sum(y_train_w_errors == dades_Y)/len(dades_Y))\n",
    "\n",
    "print(\"------------------------------------------------------\")\n",
    "\n",
    "dades_Y_one_hot_noisy = np.array(pd.get_dummies(y_train_w_errors))\n",
    "dades_Y_one_hot_noisy = dades_Y_one_hot_noisy.astype('float32')\n",
    "\n",
    "train_X,valid_X,train_label_noisy,valid_label_noisy = train_test_split(dades_X, dades_Y_one_hot_noisy, test_size=0.1, \n",
    "                                                           random_state=13,stratify=dades_Y_one_hot_noisy)\n",
    "\n",
    "print(train_X.shape,valid_X.shape,train_label_noisy.shape,valid_label_noisy.shape)\n",
    "\n",
    "print(\"------------------------------------------------------\")\n",
    "\n",
    "print(\"Distribució de les classes : \",collections.Counter(y_train_w_errors))"
   ]
  },
  {
   "cell_type": "code",
   "execution_count": 50,
   "id": "d56ac640",
   "metadata": {
    "scrolled": true
   },
   "outputs": [],
   "source": [
    "# train the network\n",
    "# H = model.fit(train_X, train_label_noisy, batch_size=BS, epochs=EPOCHS,\n",
    "#               verbose=1, validation_data=(valid_X, valid_label_noisy))"
   ]
  },
  {
   "cell_type": "code",
   "execution_count": 51,
   "id": "16d4ecd6",
   "metadata": {},
   "outputs": [],
   "source": [
    "#model.save(\"model_70.h5\")"
   ]
  },
  {
   "cell_type": "code",
   "execution_count": 52,
   "id": "9d71f6d7",
   "metadata": {},
   "outputs": [
    {
     "name": "stdout",
     "output_type": "stream",
     "text": [
      "Test loss: 3.4661202430725098\n",
      "Test accuracy: 0.5111111402511597\n"
     ]
    }
   ],
   "source": [
    "def_model = keras.models.load_model('model_70.h5')\n",
    "test_eval = def_model.evaluate(valid_X,valid_label_noisy, verbose=0)\n",
    "\n",
    "print('Test loss:', test_eval[0])\n",
    "print('Test accuracy:', test_eval[1])"
   ]
  },
  {
   "cell_type": "code",
   "execution_count": 53,
   "id": "3f4e2a1a",
   "metadata": {},
   "outputs": [],
   "source": [
    "predicted_classes = def_model.predict(valid_X)\n",
    "predicted_classes = np.argmax(np.round(predicted_classes),axis=1)\n",
    "valid_labels_noisy = np.argmax(np.round(valid_label_noisy),axis=1)"
   ]
  },
  {
   "cell_type": "code",
   "execution_count": 54,
   "id": "e810bd19",
   "metadata": {
    "scrolled": true
   },
   "outputs": [],
   "source": [
    "# acc_loss_plot(H)"
   ]
  },
  {
   "cell_type": "code",
   "execution_count": 55,
   "id": "a595e7d2",
   "metadata": {
    "scrolled": false
   },
   "outputs": [
    {
     "data": {
      "image/png": "[encoded data removed]",
      "text/plain": [
       "<Figure size 1152x864 with 2 Axes>"
      ]
     },
     "metadata": {
      "needs_background": "light"
     },
     "output_type": "display_data"
    }
   ],
   "source": [
    "plot_confusion_matrix(confusion_matrix(valid_labels_noisy, predicted_classes), target_names = classes)"
   ]
  },
  {
   "cell_type": "code",
   "execution_count": 56,
   "id": "a05a199b",
   "metadata": {},
   "outputs": [
    {
     "name": "stdout",
     "output_type": "stream",
     "text": [
      "              precision    recall  f1-score   support\n",
      "\n",
      "   colon_aca       0.44      0.53      0.48        90\n",
      "     colon_n       0.53      0.49      0.51        93\n",
      "    lung_aca       0.41      0.24      0.31        86\n",
      "      lung_n       0.57      0.66      0.61        95\n",
      "    lung_scc       0.51      0.56      0.53        86\n",
      "\n",
      "    accuracy                           0.50       450\n",
      "   macro avg       0.49      0.50      0.49       450\n",
      "weighted avg       0.50      0.50      0.49       450\n",
      "\n"
     ]
    }
   ],
   "source": [
    "target_names = [\"Class {}\".format(i) for i in range(n_classes)]\n",
    "print(classification_report(valid_labels_noisy, predicted_classes, target_names=classes))"
   ]
  },
  {
   "cell_type": "markdown",
   "id": "be8aac00",
   "metadata": {},
   "source": [
    "### Comprovem com ho fa el model amb la petita base de dades neta"
   ]
  },
  {
   "cell_type": "code",
   "execution_count": 57,
   "id": "df55a487",
   "metadata": {},
   "outputs": [],
   "source": [
    "prediction = def_model.predict(clean_X)\n",
    "pred_labs = []\n",
    "\n",
    "for i in range(len(prediction)):\n",
    "    pred_labs.append(np.argmax(prediction[i]))"
   ]
  },
  {
   "cell_type": "code",
   "execution_count": 58,
   "id": "11462da3",
   "metadata": {},
   "outputs": [
    {
     "data": {
      "text/plain": [
       "0.642"
      ]
     },
     "execution_count": 58,
     "metadata": {},
     "output_type": "execute_result"
    }
   ],
   "source": [
    "sum(pred_labs == clean_Y)/len(clean_Y)"
   ]
  },
  {
   "cell_type": "markdown",
   "id": "34f17b6a",
   "metadata": {},
   "source": [
    "------------------------------------------------------\n",
    "# Random labels"
   ]
  },
  {
   "cell_type": "code",
   "execution_count": 59,
   "id": "ddf0e73f",
   "metadata": {
    "scrolled": true
   },
   "outputs": [],
   "source": [
    "random_labels = [random.randint(0, 4) for x in range(dades_X.shape[0])]"
   ]
  },
  {
   "cell_type": "code",
   "execution_count": 60,
   "id": "074c2d16",
   "metadata": {},
   "outputs": [],
   "source": [
    "random_labels = np.array(random_labels)"
   ]
  },
  {
   "cell_type": "code",
   "execution_count": 61,
   "id": "1e5ab76a",
   "metadata": {
    "scrolled": false
   },
   "outputs": [
    {
     "name": "stdout",
     "output_type": "stream",
     "text": [
      "% d'etiquetes netes:  0.19822222222222222\n",
      "-------------------------------------------------------\n",
      "(4050, 120, 120, 3) (450, 120, 120, 3) (4050, 5) (450, 5)\n",
      "------------------------------------------------------\n",
      "Distribució de les classes :  Counter({3: 954, 1: 927, 0: 900, 4: 864, 2: 855})\n"
     ]
    }
   ],
   "source": [
    "print(\"% d'etiquetes netes: \",sum(random_labels == dades_Y)/len(dades_Y))\n",
    "print(\"-------------------------------------------------------\")\n",
    "\n",
    "dades_Y_one_hot_rand = np.array(pd.get_dummies(random_labels))\n",
    "dades_Y_one_hot_rand = dades_Y_one_hot_rand.astype('float32')\n",
    "\n",
    "train_X,valid_X,train_label_rand,valid_label_rand = train_test_split(dades_X, dades_Y_one_hot_rand, test_size=0.1, \n",
    "                                                           random_state=13,stratify=dades_Y_one_hot_rand)\n",
    "\n",
    "print(train_X.shape,valid_X.shape,train_label_rand.shape,valid_label_rand.shape)\n",
    "\n",
    "print(\"------------------------------------------------------\")\n",
    "\n",
    "print(\"Distribució de les classes : \",collections.Counter(y_train_w_errors))"
   ]
  },
  {
   "cell_type": "code",
   "execution_count": 62,
   "id": "d6a5bd06",
   "metadata": {
    "scrolled": true
   },
   "outputs": [],
   "source": [
    "# train the network\n",
    "# H = model.fit(train_X, train_label_rand, batch_size=BS, epochs=EPOCHS,\n",
    "#               verbose=1, validation_data=(valid_X, valid_label_rand))"
   ]
  },
  {
   "cell_type": "code",
   "execution_count": 63,
   "id": "20ff07fa",
   "metadata": {},
   "outputs": [],
   "source": [
    "#model.save(\"model_20.h5\")"
   ]
  },
  {
   "cell_type": "code",
   "execution_count": 64,
   "id": "f92ffce9",
   "metadata": {},
   "outputs": [
    {
     "name": "stdout",
     "output_type": "stream",
     "text": [
      "Test loss: 1.6142371892929077\n",
      "Test accuracy: 0.19333332777023315\n"
     ]
    }
   ],
   "source": [
    "def_model = keras.models.load_model('model_20.h5')\n",
    "test_eval = def_model.evaluate(valid_X,valid_label_rand, verbose=0)\n",
    "\n",
    "print('Test loss:', test_eval[0])\n",
    "print('Test accuracy:', test_eval[1])"
   ]
  },
  {
   "cell_type": "code",
   "execution_count": 65,
   "id": "29d9e59b",
   "metadata": {},
   "outputs": [],
   "source": [
    "predicted_classes = def_model.predict(valid_X)\n",
    "predicted_classes = np.argmax(np.round(predicted_classes),axis=1)\n",
    "valid_labels_rand = np.argmax(np.round(valid_label_rand),axis=1)"
   ]
  },
  {
   "cell_type": "code",
   "execution_count": 66,
   "id": "2e79cf4c",
   "metadata": {},
   "outputs": [],
   "source": [
    "# acc_loss_plot(H)"
   ]
  },
  {
   "cell_type": "code",
   "execution_count": 67,
   "id": "205e5bae",
   "metadata": {
    "scrolled": false
   },
   "outputs": [
    {
     "data": {
      "image/png": "[encoded data removed]",
      "text/plain": [
       "<Figure size 1152x864 with 2 Axes>"
      ]
     },
     "metadata": {
      "needs_background": "light"
     },
     "output_type": "display_data"
    }
   ],
   "source": [
    "plot_confusion_matrix(confusion_matrix(valid_labels_rand, predicted_classes), target_names = classes)"
   ]
  },
  {
   "cell_type": "code",
   "execution_count": 68,
   "id": "61e9abcc",
   "metadata": {},
   "outputs": [
    {
     "name": "stdout",
     "output_type": "stream",
     "text": [
      "              precision    recall  f1-score   support\n",
      "\n",
      "   colon_aca       0.20      1.00      0.33        90\n",
      "     colon_n       0.00      0.00      0.00        87\n",
      "    lung_aca       0.00      0.00      0.00        90\n",
      "      lung_n       0.00      0.00      0.00        90\n",
      "    lung_scc       0.00      0.00      0.00        93\n",
      "\n",
      "    accuracy                           0.20       450\n",
      "   macro avg       0.04      0.20      0.07       450\n",
      "weighted avg       0.04      0.20      0.07       450\n",
      "\n"
     ]
    },
    {
     "name": "stderr",
     "output_type": "stream",
     "text": [
      "C:\\Users\\aidaf\\anaconda3\\envs\\tf\\lib\\site-packages\\sklearn\\metrics\\_classification.py:1308: UndefinedMetricWarning: Precision and F-score are ill-defined and being set to 0.0 in labels with no predicted samples. Use `zero_division` parameter to control this behavior.\n",
      "  _warn_prf(average, modifier, msg_start, len(result))\n",
      "C:\\Users\\aidaf\\anaconda3\\envs\\tf\\lib\\site-packages\\sklearn\\metrics\\_classification.py:1308: UndefinedMetricWarning: Precision and F-score are ill-defined and being set to 0.0 in labels with no predicted samples. Use `zero_division` parameter to control this behavior.\n",
      "  _warn_prf(average, modifier, msg_start, len(result))\n",
      "C:\\Users\\aidaf\\anaconda3\\envs\\tf\\lib\\site-packages\\sklearn\\metrics\\_classification.py:1308: UndefinedMetricWarning: Precision and F-score are ill-defined and being set to 0.0 in labels with no predicted samples. Use `zero_division` parameter to control this behavior.\n",
      "  _warn_prf(average, modifier, msg_start, len(result))\n"
     ]
    }
   ],
   "source": [
    "target_names = [\"Class {}\".format(i) for i in range(n_classes)]\n",
    "print(classification_report(valid_labels_rand, predicted_classes, target_names=classes))"
   ]
  },
  {
   "cell_type": "markdown",
   "id": "764fa339",
   "metadata": {},
   "source": [
    "### Comprovem com ho fa el model amb la petita base de dades neta"
   ]
  },
  {
   "cell_type": "code",
   "execution_count": 69,
   "id": "cee284e0",
   "metadata": {
    "scrolled": true
   },
   "outputs": [],
   "source": [
    "prediction = def_model.predict(clean_X)\n",
    "pred_labs = []\n",
    "\n",
    "for i in range(len(prediction)):\n",
    "    pred_labs.append(np.argmax(prediction[i]))"
   ]
  },
  {
   "cell_type": "code",
   "execution_count": 70,
   "id": "99dcfa93",
   "metadata": {},
   "outputs": [
    {
     "data": {
      "text/plain": [
       "0.274"
      ]
     },
     "execution_count": 70,
     "metadata": {},
     "output_type": "execute_result"
    }
   ],
   "source": [
    "sum(pred_labs == clean_Y)/len(clean_Y)"
   ]
  }
 ],
 "metadata": {
  "accelerator": "TPU",
  "colab": {
   "collapsed_sections": [
    "bright-brisbane",
    "manufactured-begin",
    "intended-professor",
    "divine-diesel",
    "verified-guarantee"
   ],
   "name": "TFG.ipynb",
   "provenance": []
  },
  "kernelspec": {
   "display_name": "Python 3 (ipykernel)",
   "language": "python",
   "name": "python3"
  },
  "language_info": {
   "codemirror_mode": {
    "name": "ipython",
    "version": 3
   },
   "file_extension": ".py",
   "mimetype": "text/x-python",
   "name": "python",
   "nbconvert_exporter": "python",
   "pygments_lexer": "ipython3",
   "version": "3.9.7"
  }
 },
 "nbformat": 4,
 "nbformat_minor": 5
}
