{
 "cells": [
  {
   "cell_type": "markdown",
   "id": "f523d167",
   "metadata": {
    "id": "comfortable-avenue"
   },
   "source": [
    "## Packages"
   ]
  },
  {
   "cell_type": "code",
   "execution_count": 1,
   "id": "7b1231d0",
   "metadata": {
    "id": "blond-ceramic",
    "scrolled": true
   },
   "outputs": [],
   "source": [
    "import pandas as pd\n",
    "\n",
    "import numpy as np\n",
    "\n",
    "import matplotlib.pyplot as plt\n",
    "\n",
    "import os\n",
    "\n",
    "import collections\n",
    "import random\n",
    "\n",
    "import tensorflow as tf\n",
    "from tensorflow import keras\n",
    "from tensorflow.keras import layers\n",
    "from tensorflow.keras.preprocessing.image import load_img\n",
    "\n",
    "import keras\n",
    "from keras.models import Sequential,Input,Model\n",
    "from keras.layers import Dense, Dropout, Flatten\n",
    "from keras.layers import Conv2D, MaxPooling2D\n",
    "from keras.layers.normalization import BatchNormalization\n",
    "from keras.layers.advanced_activations import LeakyReLU\n",
    "from sklearn.model_selection import StratifiedKFold\n",
    "from tensorflow.keras.layers.experimental.preprocessing import Rescaling\n",
    "\n",
    "from sklearn.model_selection import train_test_split\n",
    "from sklearn.metrics import classification_report\n",
    "from sklearn.metrics import confusion_matrix\n",
    "\n",
    "import cleanlab\n",
    "from cleanlab.noise_generation import generate_noisy_labels\n",
    "from cleanlab.util import print_noise_matrix\n",
    "from cleanlab import baseline_methods\n",
    "from cleanlab.latent_estimation import compute_confident_joint\n",
    "from cleanlab import baseline_methods\n",
    "from cleanlab.latent_estimation import compute_confident_joint"
   ]
  },
  {
   "cell_type": "code",
   "execution_count": 2,
   "id": "e1f9e7a3",
   "metadata": {},
   "outputs": [],
   "source": [
    "def plot_confusion_matrix(cm,\n",
    "                          target_names,\n",
    "                          title='Confusion matrix',\n",
    "                          cmap=None,\n",
    "                          normalize=True):\n",
    "    \"\"\"\n",
    "    given a sklearn confusion matrix (cm), make a nice plot\n",
    "\n",
    "    Arguments\n",
    "    ---------\n",
    "    cm:           confusion matrix from sklearn.metrics.confusion_matrix\n",
    "\n",
    "    target_names: given classification classes such as [0, 1, 2]\n",
    "                  the class names, for example: ['high', 'medium', 'low']\n",
    "\n",
    "    title:        the text to display at the top of the matrix\n",
    "\n",
    "    cmap:         the gradient of the values displayed from matplotlib.pyplot.cm\n",
    "                  see http://matplotlib.org/examples/color/colormaps_reference.html\n",
    "                  plt.get_cmap('jet') or plt.cm.Blues\n",
    "\n",
    "    normalize:    If False, plot the raw numbers\n",
    "                  If True, plot the proportions\n",
    "\n",
    "    Usage\n",
    "    -----\n",
    "    plot_confusion_matrix(cm           = cm,                  # confusion matrix created by\n",
    "                                                              # sklearn.metrics.confusion_matrix\n",
    "                          normalize    = True,                # show proportions\n",
    "                          target_names = y_labels_vals,       # list of names of the classes\n",
    "                          title        = best_estimator_name) # title of graph\n",
    "\n",
    "    Citiation\n",
    "    ---------\n",
    "    http://scikit-learn.org/stable/auto_examples/model_selection/plot_confusion_matrix.html\n",
    "\n",
    "    \"\"\"\n",
    "    import matplotlib.pyplot as plt\n",
    "    import numpy as np\n",
    "    import itertools\n",
    "\n",
    "    accuracy = np.trace(cm) / float(np.sum(cm))\n",
    "    misclass = 1 - accuracy\n",
    "\n",
    "    if cmap is None:\n",
    "        cmap = plt.get_cmap('Blues')\n",
    "\n",
    "    plt.figure(figsize=(16, 12))\n",
    "    plt.imshow(cm, interpolation='nearest', cmap=cmap)\n",
    "    plt.title(title)\n",
    "    plt.colorbar()\n",
    "\n",
    "    if target_names is not None:\n",
    "        tick_marks = np.arange(len(target_names))\n",
    "        plt.xticks(tick_marks, target_names, rotation=45)\n",
    "        plt.yticks(tick_marks, target_names)\n",
    "\n",
    "    if normalize:\n",
    "        cm = cm.astype('float') / cm.sum(axis=1)[:, np.newaxis]\n",
    "\n",
    "\n",
    "    thresh = cm.max() / 1.5 if normalize else cm.max() / 2\n",
    "    for i, j in itertools.product(range(cm.shape[0]), range(cm.shape[1])):\n",
    "        if normalize:\n",
    "            plt.text(j, i, \"{:0.2f}\".format(cm[i, j]),\n",
    "                     horizontalalignment=\"center\",\n",
    "                     color=\"white\" if cm[i, j] > thresh else \"black\")\n",
    "        else:\n",
    "            plt.text(j, i, \"{:,}\".format(cm[i, j]),\n",
    "                     horizontalalignment=\"center\",\n",
    "                     color=\"white\" if cm[i, j] > thresh else \"black\")\n",
    "\n",
    "\n",
    "    plt.tight_layout()\n",
    "    plt.ylabel('True label')\n",
    "    plt.xlabel('Predicted label\\naccuracy={:0.4f}; misclass={:0.4f}'.format(accuracy, misclass))\n",
    "    plt.show()\n",
    "    \n",
    "    \n",
    "def acc_loss_plot(network):\n",
    "    accuracy = network.history['accuracy']\n",
    "    val_accuracy = network.history['val_accuracy']\n",
    "    loss = network.history['loss']\n",
    "    val_loss = network.history['val_loss']\n",
    "    epochs = range(len(accuracy))\n",
    "    plt.plot(epochs, accuracy, 'bo', label='Training accuracy')\n",
    "    plt.plot(epochs, val_accuracy, 'c', label='Validation accuracy')\n",
    "    plt.title('Training and validation accuracy')\n",
    "    plt.legend()\n",
    "    plt.figure()\n",
    "    plt.plot(epochs, loss, 'bo', label='Training loss')\n",
    "    plt.plot(epochs, val_loss, 'c', label='Validation loss')\n",
    "    plt.title('Training and validation loss')\n",
    "    plt.legend()\n",
    "    plt.show()"
   ]
  },
  {
   "cell_type": "markdown",
   "id": "c7455e0d",
   "metadata": {
    "id": "transsexual-decision"
   },
   "source": [
    "## Lectura de les dades"
   ]
  },
  {
   "cell_type": "code",
   "execution_count": 3,
   "id": "71a7c345",
   "metadata": {
    "scrolled": true
   },
   "outputs": [
    {
     "name": "stdout",
     "output_type": "stream",
     "text": [
      "2.6.0\n"
     ]
    }
   ],
   "source": [
    "print(tf. __version__)"
   ]
  },
  {
   "cell_type": "code",
   "execution_count": 4,
   "id": "2afbd7f1",
   "metadata": {
    "colab": {
     "base_uri": "https://localhost:8080/"
    },
    "executionInfo": {
     "elapsed": 28264,
     "status": "ok",
     "timestamp": 1638284310466,
     "user": {
      "displayName": "Aida Fernandez",
      "photoUrl": "https://lh3.googleusercontent.com/a/default-user=s64",
      "userId": "06772576507680919815"
     },
     "user_tz": -60
    },
    "id": "tC7AESnKeKC6",
    "outputId": "0d284775-c8bd-44a2-b2a8-c901f140af35",
    "scrolled": false
   },
   "outputs": [
    {
     "data": {
      "text/plain": [
       "'C:\\\\Users\\\\aidaf\\\\TFG'"
      ]
     },
     "execution_count": 4,
     "metadata": {},
     "output_type": "execute_result"
    }
   ],
   "source": [
    "os.getcwd()"
   ]
  },
  {
   "cell_type": "code",
   "execution_count": 5,
   "id": "610d135e",
   "metadata": {
    "id": "ukoFgnSEkhUd"
   },
   "outputs": [
    {
     "data": {
      "text/plain": [
       "'C:\\\\Users\\\\aidaf\\\\TFG\\\\reduced'"
      ]
     },
     "execution_count": 5,
     "metadata": {},
     "output_type": "execute_result"
    }
   ],
   "source": [
    "data_dir = os.path.join(os.getcwd() + \"\\\\reduced\")\n",
    "data_dir"
   ]
  },
  {
   "cell_type": "code",
   "execution_count": 6,
   "id": "883368bc",
   "metadata": {},
   "outputs": [
    {
     "name": "stdout",
     "output_type": "stream",
     "text": [
      "['colon_aca', 'colon_n', 'lung_aca', 'lung_n', 'lung_scc']\n"
     ]
    }
   ],
   "source": [
    "classes = os. listdir(data_dir)\n",
    "print(classes)"
   ]
  },
  {
   "cell_type": "code",
   "execution_count": 7,
   "id": "43dacf52",
   "metadata": {
    "scrolled": true
   },
   "outputs": [
    {
     "data": {
      "text/plain": [
       "((4500,), (4500, 120, 120, 3))"
      ]
     },
     "execution_count": 7,
     "metadata": {},
     "output_type": "execute_result"
    }
   ],
   "source": [
    "dades_Y = np.load('labels_reduced.npy')\n",
    "dades_X = np.load('images_reduced.npy')\n",
    "\n",
    "dades_Y.shape, dades_X.shape"
   ]
  },
  {
   "cell_type": "code",
   "execution_count": 8,
   "id": "bde5f0a4",
   "metadata": {},
   "outputs": [
    {
     "data": {
      "text/plain": [
       "((500, 120, 120, 3), (500,))"
      ]
     },
     "execution_count": 8,
     "metadata": {},
     "output_type": "execute_result"
    }
   ],
   "source": [
    "clean_Y = np.load('labels_reduced_clean.npy')\n",
    "clean_X = np.load('images_reduced_clean.npy')\n",
    "\n",
    "clean_X.shape, clean_Y.shape"
   ]
  },
  {
   "cell_type": "markdown",
   "id": "c0ddeb48",
   "metadata": {
    "id": "bright-brisbane"
   },
   "source": [
    "## Descripció de les dades"
   ]
  },
  {
   "cell_type": "code",
   "execution_count": 9,
   "id": "22d9e7c8",
   "metadata": {},
   "outputs": [],
   "source": [
    "dades_Y_clean, dades_Y_resta = dades_Y[0:200], dades_Y[200:4500]\n",
    "dades_X_clean, dades_X_resta = dades_X[0:200,], dades_X[200:4500,]"
   ]
  },
  {
   "cell_type": "markdown",
   "id": "3291ae07",
   "metadata": {
    "id": "excess-dictionary"
   },
   "source": [
    "Dimensió: "
   ]
  },
  {
   "cell_type": "code",
   "execution_count": 10,
   "id": "b8bedda0",
   "metadata": {
    "id": "relative-apartment",
    "scrolled": true
   },
   "outputs": [
    {
     "name": "stdout",
     "output_type": "stream",
     "text": [
      "Dimensions de les dades :  (200, 120, 120, 3) (200,)\n",
      "Dimensions de les dades :  (4300, 120, 120, 3) (4300,)\n"
     ]
    }
   ],
   "source": [
    "print('Dimensions de les dades : ', dades_X_clean.shape, dades_Y_clean.shape)\n",
    "print('Dimensions de les dades : ', dades_X_resta.shape, dades_Y_resta.shape)"
   ]
  },
  {
   "cell_type": "markdown",
   "id": "f857531c",
   "metadata": {
    "id": "diagnostic-individual"
   },
   "source": [
    "Nombre de classes i etiquetes: "
   ]
  },
  {
   "cell_type": "code",
   "execution_count": 11,
   "id": "c908c60b",
   "metadata": {
    "id": "close-frontier"
   },
   "outputs": [
    {
     "name": "stdout",
     "output_type": "stream",
     "text": [
      "Nombre de classes :  5\n",
      "Etiquetes de les classes :  ['colon_aca', 'colon_n', 'lung_aca', 'lung_n', 'lung_scc']\n"
     ]
    }
   ],
   "source": [
    "n_classes = len(classes)\n",
    "print('Nombre de classes : ', n_classes)\n",
    "print('Etiquetes de les classes : ', classes)"
   ]
  },
  {
   "cell_type": "markdown",
   "id": "07a58a67",
   "metadata": {
    "id": "unsigned-marathon"
   },
   "source": [
    "Distribució de les classes: "
   ]
  },
  {
   "cell_type": "code",
   "execution_count": 12,
   "id": "a0e9471a",
   "metadata": {
    "id": "fossil-lancaster",
    "scrolled": true
   },
   "outputs": [
    {
     "name": "stdout",
     "output_type": "stream",
     "text": [
      "Distribució de les classes :  Counter({0: 48, 2: 40, 4: 39, 1: 37, 3: 36})\n",
      "Distribució de les classes :  Counter({3: 864, 1: 863, 4: 861, 2: 860, 0: 852})\n"
     ]
    }
   ],
   "source": [
    "print(\"Distribució de les classes : \",collections.Counter(dades_Y_clean))\n",
    "print(\"Distribució de les classes : \",collections.Counter(dades_Y_resta))"
   ]
  },
  {
   "cell_type": "markdown",
   "id": "f30f9175",
   "metadata": {},
   "source": [
    "# Augmentem encara més el soroll"
   ]
  },
  {
   "cell_type": "code",
   "execution_count": 13,
   "id": "d67d2e62",
   "metadata": {},
   "outputs": [
    {
     "data": {
      "text/plain": [
       "array([ True,  True,  True,  True,  True])"
      ]
     },
     "execution_count": 13,
     "metadata": {},
     "output_type": "execute_result"
    }
   ],
   "source": [
    "noise_matrix = np.array([[.7,.2,.04,.03,.03],\n",
    "                         [.2,.7,.04,.03,.03],\n",
    "                         [.05,.01,.68,.13,.13],\n",
    "                         [.01,.02,.12,.7,.15],\n",
    "                         [.04,.04,.17,.05,.7]])\n",
    "\n",
    "np.sum(noise_matrix,1) == 1"
   ]
  },
  {
   "cell_type": "code",
   "execution_count": 14,
   "id": "59c8a600",
   "metadata": {
    "scrolled": true
   },
   "outputs": [
    {
     "name": "stdout",
     "output_type": "stream",
     "text": [
      "\n",
      " Noise Matrix (aka Noisy Channel) P(s|y) of shape (5, 5)\n",
      " p(s|y)\ty=0\ty=1\ty=2\ty=3\ty=4\n",
      "\t---\t---\t---\t---\t---\n",
      "s=0 |\t0.7\t0.2\t0.04\t0.03\t0.03\n",
      "s=1 |\t0.2\t0.7\t0.04\t0.03\t0.03\n",
      "s=2 |\t0.05\t0.01\t0.68\t0.13\t0.13\n",
      "s=3 |\t0.01\t0.02\t0.12\t0.7\t0.15\n",
      "s=4 |\t0.04\t0.04\t0.17\t0.05\t0.7\n",
      "\tTrace(matrix) = 3.48\n",
      "\n",
      "------------------------------------------------------\n",
      "% d'etiquetes netes:  0.6983720930232559\n",
      "------------------------------------------------------\n",
      "(180, 120, 120, 3) (20, 120, 120, 3) (180, 5) (20, 5)\n",
      "------------------------------------------------------\n",
      "Distribució de les classes :  Counter({3: 916, 1: 886, 0: 854, 4: 828, 2: 816})\n"
     ]
    }
   ],
   "source": [
    "print_noise_matrix(noise_matrix)\n",
    "np.random.seed(seed=1)\n",
    "# Create the noisy labels. This method is exact w.r.t. the noise_matrix.\n",
    "y_train_w_errors = generate_noisy_labels(dades_Y_resta, noise_matrix)\n",
    "\n",
    "\n",
    "print(\"------------------------------------------------------\")\n",
    "print(\"% d'etiquetes netes: \",sum(y_train_w_errors == dades_Y_resta)/len(dades_Y_resta))\n",
    "\n",
    "print(\"------------------------------------------------------\")\n",
    "\n",
    "dades_Y_one_hot = np.array(pd.get_dummies(dades_Y_clean))\n",
    "dades_Y_one_hot = dades_Y_one_hot.astype('float32')\n",
    "\n",
    "train_X,valid_X,train_label,valid_label = train_test_split(dades_X_clean, dades_Y_one_hot, test_size=0.1, \n",
    "                                                           random_state=13,stratify=dades_Y_one_hot)\n",
    "\n",
    "print(train_X.shape,valid_X.shape,train_label.shape,valid_label.shape)\n",
    "\n",
    "print(\"------------------------------------------------------\")\n",
    "\n",
    "print(\"Distribució de les classes : \",collections.Counter(y_train_w_errors))"
   ]
  },
  {
   "cell_type": "code",
   "execution_count": 38,
   "id": "85854f5c",
   "metadata": {},
   "outputs": [],
   "source": [
    "model = Sequential()\n",
    "model.add(Rescaling(1./255, input_shape=(dades_X_clean.shape[1],dades_X_clean.shape[2],3)))\n",
    "model.add(Conv2D(16, kernel_size=(3, 3),activation='linear', padding='same'))\n",
    "model.add(LeakyReLU(alpha=0.1))\n",
    "model.add(MaxPooling2D((2, 2),padding='same'))\n",
    "model.add(Conv2D(16, (3, 3), activation='linear',padding='same'))\n",
    "model.add(LeakyReLU(alpha=0.1))\n",
    "model.add(MaxPooling2D(pool_size=(2, 2),padding='same'))\n",
    "model.add(Flatten())\n",
    "model.add(Dense(16, activation='linear'))\n",
    "model.add(LeakyReLU(alpha=0.1))\n",
    "model.add(Dropout(0.2))\n",
    "model.add(Dense(n_classes, activation='softmax'))\n",
    "\n",
    "# fit model on the augmented dataset\n",
    "# initialize the number of epochs and batch size\n",
    "EPOCHS = 30\n",
    "BS = 32\n",
    "\n",
    "model.compile(loss=keras.losses.categorical_crossentropy, \n",
    "              optimizer=keras.optimizers.Adam(),metrics=['accuracy'])"
   ]
  },
  {
   "cell_type": "code",
   "execution_count": 39,
   "id": "d56ac640",
   "metadata": {
    "scrolled": false
   },
   "outputs": [
    {
     "name": "stdout",
     "output_type": "stream",
     "text": [
      "Epoch 1/30\n",
      "6/6 [==============================] - 2s 260ms/step - loss: 1.8421 - accuracy: 0.2278 - val_loss: 1.6166 - val_accuracy: 0.2000\n",
      "Epoch 2/30\n",
      "6/6 [==============================] - 2s 401ms/step - loss: 1.6109 - accuracy: 0.2167 - val_loss: 1.5525 - val_accuracy: 0.3000\n",
      "Epoch 3/30\n",
      "6/6 [==============================] - 1s 216ms/step - loss: 1.5093 - accuracy: 0.3000 - val_loss: 1.4797 - val_accuracy: 0.3000\n",
      "Epoch 4/30\n",
      "6/6 [==============================] - 1s 195ms/step - loss: 1.4101 - accuracy: 0.3500 - val_loss: 1.2944 - val_accuracy: 0.4500\n",
      "Epoch 5/30\n",
      "6/6 [==============================] - 1s 186ms/step - loss: 1.1721 - accuracy: 0.5333 - val_loss: 1.3779 - val_accuracy: 0.4500\n",
      "Epoch 6/30\n",
      "6/6 [==============================] - 1s 189ms/step - loss: 1.1154 - accuracy: 0.4778 - val_loss: 1.1010 - val_accuracy: 0.5500\n",
      "Epoch 7/30\n",
      "6/6 [==============================] - 1s 195ms/step - loss: 0.9917 - accuracy: 0.6056 - val_loss: 1.0005 - val_accuracy: 0.6500\n",
      "Epoch 8/30\n",
      "6/6 [==============================] - 1s 186ms/step - loss: 0.9843 - accuracy: 0.5389 - val_loss: 1.0437 - val_accuracy: 0.6500\n",
      "Epoch 9/30\n",
      "6/6 [==============================] - 1s 192ms/step - loss: 0.8921 - accuracy: 0.5889 - val_loss: 0.9511 - val_accuracy: 0.5500\n",
      "Epoch 10/30\n",
      "6/6 [==============================] - 1s 191ms/step - loss: 0.8679 - accuracy: 0.6167 - val_loss: 0.8928 - val_accuracy: 0.6500\n",
      "Epoch 11/30\n",
      "6/6 [==============================] - 1s 231ms/step - loss: 0.7615 - accuracy: 0.6833 - val_loss: 0.8834 - val_accuracy: 0.7500\n",
      "Epoch 12/30\n",
      "6/6 [==============================] - 1s 204ms/step - loss: 0.6598 - accuracy: 0.7556 - val_loss: 0.8212 - val_accuracy: 0.6500\n",
      "Epoch 13/30\n",
      "6/6 [==============================] - 1s 196ms/step - loss: 0.5900 - accuracy: 0.7500 - val_loss: 0.7938 - val_accuracy: 0.7000\n",
      "Epoch 14/30\n",
      "6/6 [==============================] - 2s 369ms/step - loss: 0.5398 - accuracy: 0.8222 - val_loss: 0.7633 - val_accuracy: 0.7500\n",
      "Epoch 15/30\n",
      "6/6 [==============================] - 1s 192ms/step - loss: 0.6240 - accuracy: 0.7333 - val_loss: 0.7990 - val_accuracy: 0.6000\n",
      "Epoch 16/30\n",
      "6/6 [==============================] - 1s 190ms/step - loss: 0.4989 - accuracy: 0.8333 - val_loss: 0.8448 - val_accuracy: 0.7000\n",
      "Epoch 17/30\n",
      "6/6 [==============================] - 1s 192ms/step - loss: 0.4071 - accuracy: 0.8722 - val_loss: 0.6753 - val_accuracy: 0.8500\n",
      "Epoch 18/30\n",
      "6/6 [==============================] - 1s 196ms/step - loss: 0.3741 - accuracy: 0.8611 - val_loss: 0.9076 - val_accuracy: 0.7000\n",
      "Epoch 19/30\n",
      "6/6 [==============================] - 1s 190ms/step - loss: 0.4110 - accuracy: 0.8389 - val_loss: 0.7938 - val_accuracy: 0.7000\n",
      "Epoch 20/30\n",
      "6/6 [==============================] - 1s 201ms/step - loss: 0.3740 - accuracy: 0.8444 - val_loss: 0.8610 - val_accuracy: 0.6500\n",
      "Epoch 21/30\n",
      "6/6 [==============================] - 1s 192ms/step - loss: 0.3548 - accuracy: 0.9111 - val_loss: 0.6952 - val_accuracy: 0.8500\n",
      "Epoch 22/30\n",
      "6/6 [==============================] - 1s 198ms/step - loss: 0.3129 - accuracy: 0.8944 - val_loss: 0.7912 - val_accuracy: 0.7000\n",
      "Epoch 23/30\n",
      "6/6 [==============================] - 1s 235ms/step - loss: 0.2987 - accuracy: 0.9222 - val_loss: 0.6844 - val_accuracy: 0.7500\n",
      "Epoch 24/30\n",
      "6/6 [==============================] - 1s 214ms/step - loss: 0.2275 - accuracy: 0.9556 - val_loss: 0.7280 - val_accuracy: 0.7500\n",
      "Epoch 25/30\n",
      "6/6 [==============================] - 1s 197ms/step - loss: 0.2266 - accuracy: 0.9333 - val_loss: 0.8697 - val_accuracy: 0.7000\n",
      "Epoch 26/30\n",
      "6/6 [==============================] - 2s 307ms/step - loss: 0.1871 - accuracy: 0.9500 - val_loss: 0.6573 - val_accuracy: 0.7500\n",
      "Epoch 27/30\n",
      "6/6 [==============================] - 2s 263ms/step - loss: 0.1527 - accuracy: 0.9444 - val_loss: 0.8399 - val_accuracy: 0.8000\n",
      "Epoch 28/30\n",
      "6/6 [==============================] - 1s 207ms/step - loss: 0.1493 - accuracy: 0.9500 - val_loss: 0.7460 - val_accuracy: 0.7000\n",
      "Epoch 29/30\n",
      "6/6 [==============================] - 1s 192ms/step - loss: 0.1369 - accuracy: 0.9444 - val_loss: 0.8483 - val_accuracy: 0.8000\n",
      "Epoch 30/30\n",
      "6/6 [==============================] - 1s 187ms/step - loss: 0.1431 - accuracy: 0.9611 - val_loss: 0.7218 - val_accuracy: 0.8500\n"
     ]
    }
   ],
   "source": [
    "# train the network\n",
    "H = model.fit(train_X, train_label, batch_size=BS, epochs=EPOCHS,\n",
    "              verbose=1, validation_data=(valid_X, valid_label))"
   ]
  },
  {
   "cell_type": "code",
   "execution_count": 41,
   "id": "16d4ecd6",
   "metadata": {},
   "outputs": [],
   "source": [
    "model.save(\"model_70_200.h5\")"
   ]
  },
  {
   "cell_type": "code",
   "execution_count": 42,
   "id": "9d71f6d7",
   "metadata": {
    "scrolled": true
   },
   "outputs": [
    {
     "name": "stdout",
     "output_type": "stream",
     "text": [
      "Test loss: 0.7218053936958313\n",
      "Test accuracy: 0.8500000238418579\n"
     ]
    }
   ],
   "source": [
    "def_model = keras.models.load_model('model_70_200.h5')\n",
    "test_eval = def_model.evaluate(valid_X,valid_label, verbose=0)\n",
    "\n",
    "print('Test loss:', test_eval[0])\n",
    "print('Test accuracy:', test_eval[1])"
   ]
  },
  {
   "cell_type": "code",
   "execution_count": 43,
   "id": "3f4e2a1a",
   "metadata": {},
   "outputs": [],
   "source": [
    "predicted_classes = def_model.predict(valid_X)\n",
    "predicted_classes = np.argmax(np.round(predicted_classes),axis=1)\n",
    "valid_labels = np.argmax(np.round(valid_label),axis=1)"
   ]
  },
  {
   "cell_type": "code",
   "execution_count": 44,
   "id": "e810bd19",
   "metadata": {
    "scrolled": false
   },
   "outputs": [
    {
     "data": {
      "image/png": "[encoded data removed]",
      "text/plain": [
       "<Figure size 432x288 with 1 Axes>"
      ]
     },
     "metadata": {
      "needs_background": "light"
     },
     "output_type": "display_data"
    },
    {
     "data": {
      "image/png": "[encoded data removed]",
      "text/plain": [
       "<Figure size 432x288 with 1 Axes>"
      ]
     },
     "metadata": {
      "needs_background": "light"
     },
     "output_type": "display_data"
    }
   ],
   "source": [
    "acc_loss_plot(H)"
   ]
  },
  {
   "cell_type": "code",
   "execution_count": 47,
   "id": "a595e7d2",
   "metadata": {
    "scrolled": false
   },
   "outputs": [
    {
     "data": {
      "image/png": "[encoded data removed]",
      "text/plain": [
       "<Figure size 1152x864 with 2 Axes>"
      ]
     },
     "metadata": {
      "needs_background": "light"
     },
     "output_type": "display_data"
    }
   ],
   "source": [
    "plot_confusion_matrix(confusion_matrix(valid_labels, predicted_classes), target_names = classes)"
   ]
  },
  {
   "cell_type": "code",
   "execution_count": 48,
   "id": "a05a199b",
   "metadata": {
    "scrolled": false
   },
   "outputs": [
    {
     "name": "stdout",
     "output_type": "stream",
     "text": [
      "              precision    recall  f1-score   support\n",
      "\n",
      "   colon_aca       0.80      0.80      0.80         5\n",
      "     colon_n       0.75      0.75      0.75         4\n",
      "    lung_aca       0.75      0.75      0.75         4\n",
      "      lung_n       1.00      0.67      0.80         3\n",
      "    lung_scc       0.80      1.00      0.89         4\n",
      "\n",
      "    accuracy                           0.80        20\n",
      "   macro avg       0.82      0.79      0.80        20\n",
      "weighted avg       0.81      0.80      0.80        20\n",
      "\n"
     ]
    }
   ],
   "source": [
    "target_names = [\"Class {}\".format(i) for i in range(n_classes)]\n",
    "print(classification_report(valid_labels, predicted_classes, target_names=classes))"
   ]
  },
  {
   "cell_type": "markdown",
   "id": "51d1c2b1",
   "metadata": {},
   "source": [
    "## Demanem al model que digui quines prediccions són errónies"
   ]
  },
  {
   "cell_type": "code",
   "execution_count": 49,
   "id": "64dca29c",
   "metadata": {},
   "outputs": [],
   "source": [
    "prediccions = def_model.predict(dades_X_resta)"
   ]
  },
  {
   "cell_type": "code",
   "execution_count": 50,
   "id": "78ef54c7",
   "metadata": {},
   "outputs": [],
   "source": [
    "s = dades_Y_resta\n",
    "psx = prediccions"
   ]
  },
  {
   "cell_type": "code",
   "execution_count": 51,
   "id": "89755f45",
   "metadata": {},
   "outputs": [],
   "source": [
    "label_error_mask = np.zeros(len(s), dtype=bool)\n",
    "label_error_indices = compute_confident_joint(\n",
    "    s, psx, return_indices_of_off_diagonals=True)[1]\n",
    "baseline_conf_joint_only = label_error_mask    \n",
    "\n",
    "# Method: C_confusion\n",
    "baseline_argmax = baseline_methods.baseline_argmax(psx, s)\n",
    "\n",
    "# Method: CL: PBC\n",
    "baseline_cl_pbc = cleanlab.pruning.get_noise_indices(\n",
    "    s, psx, prune_method='prune_by_class')\n",
    "\n",
    "# ethod: CL: PBNR\n",
    "baseline_cl_pbnr = cleanlab.pruning.get_noise_indices(\n",
    "            s, psx, prune_method='prune_by_noise_rate')\n",
    "\n",
    "# Method: CL: C+NR\n",
    "baseline_cl_both = cleanlab.pruning.get_noise_indices(\n",
    "    s, psx, prune_method='both')\n",
    "\n",
    "clean_labels = {\n",
    "        'conf_joint_only': ~baseline_conf_joint_only,\n",
    "        'pruned_argmax': ~baseline_argmax,\n",
    "        'cl_pbc': ~baseline_cl_pbc,\n",
    "        'cl_pbnr': ~baseline_cl_pbnr,\n",
    "        'cl_both': ~baseline_cl_both,\n",
    "    }"
   ]
  },
  {
   "cell_type": "code",
   "execution_count": 52,
   "id": "bc07fa7e",
   "metadata": {},
   "outputs": [],
   "source": [
    "aux = ((((baseline_conf_joint_only==baseline_argmax)\n",
    "         ==(baseline_argmax==baseline_cl_pbc))\n",
    "         ==((baseline_cl_pbc==baseline_cl_pbnr)\n",
    "         ==(baseline_cl_pbnr==baseline_cl_both)))\n",
    "         ==(baseline_cl_both==baseline_cl_pbnr))"
   ]
  },
  {
   "cell_type": "code",
   "execution_count": 53,
   "id": "600b8b6d",
   "metadata": {
    "scrolled": true
   },
   "outputs": [
    {
     "data": {
      "text/plain": [
       "(3517, 0.817906976744186)"
      ]
     },
     "execution_count": 53,
     "metadata": {},
     "output_type": "execute_result"
    }
   ],
   "source": [
    "sum(aux), sum(aux)/len(aux)"
   ]
  },
  {
   "cell_type": "code",
   "execution_count": 54,
   "id": "163cc73c",
   "metadata": {
    "scrolled": false
   },
   "outputs": [
    {
     "name": "stdout",
     "output_type": "stream",
     "text": [
      "(3517, 120, 120, 3) (3517,)\n"
     ]
    }
   ],
   "source": [
    "X_defs = dades_X_resta[aux]\n",
    "Y_defs = dades_Y_resta[aux]\n",
    "\n",
    "print(X_defs.shape,Y_defs.shape)"
   ]
  },
  {
   "cell_type": "code",
   "execution_count": 55,
   "id": "20d3c645",
   "metadata": {},
   "outputs": [
    {
     "name": "stdout",
     "output_type": "stream",
     "text": [
      "(3717, 120, 120, 3) (3717,)\n"
     ]
    }
   ],
   "source": [
    "new_Y = np.concatenate((dades_Y_clean, Y_defs),axis = 0)\n",
    "new_X = np.concatenate((dades_X_clean, X_defs),axis = 0)\n",
    "\n",
    "print(new_X.shape,new_Y.shape)"
   ]
  },
  {
   "cell_type": "code",
   "execution_count": 56,
   "id": "2bd72d06",
   "metadata": {},
   "outputs": [
    {
     "name": "stdout",
     "output_type": "stream",
     "text": [
      "(3345, 120, 120, 3) (372, 120, 120, 3) (3345, 5) (372, 5)\n",
      "------------------------------------------------------\n",
      "Distribució de les classes :  Counter({3: 864, 4: 774, 1: 742, 0: 707, 2: 630})\n"
     ]
    }
   ],
   "source": [
    "dades_Y_one_hot = np.array(pd.get_dummies(new_Y))\n",
    "dades_Y_one_hot = dades_Y_one_hot.astype('float32')\n",
    "\n",
    "train_X,valid_X,train_label,valid_label = train_test_split(new_X, dades_Y_one_hot, test_size=0.1, \n",
    "                                                           random_state=13,stratify=new_Y)\n",
    "\n",
    "print(train_X.shape,valid_X.shape,train_label.shape,valid_label.shape)\n",
    "\n",
    "print(\"------------------------------------------------------\")\n",
    "\n",
    "print(\"Distribució de les classes : \",collections.Counter(new_Y))"
   ]
  },
  {
   "cell_type": "code",
   "execution_count": 57,
   "id": "aee253fc",
   "metadata": {},
   "outputs": [],
   "source": [
    "model = Sequential()\n",
    "model.add(Rescaling(1./255, input_shape=(dades_X_clean.shape[1],dades_X_clean.shape[2],3)))\n",
    "model.add(Conv2D(32, kernel_size=(3, 3),activation='linear', padding='same'))\n",
    "model.add(LeakyReLU(alpha=0.1))\n",
    "model.add(MaxPooling2D((2, 2),padding='same'))\n",
    "model.add(Conv2D(64, (3, 3), activation='linear',padding='same'))\n",
    "model.add(LeakyReLU(alpha=0.1))\n",
    "model.add(MaxPooling2D(pool_size=(2, 2),padding='same'))\n",
    "model.add(Conv2D(128, (3, 3), activation='linear',padding='same'))\n",
    "model.add(LeakyReLU(alpha=0.1))\n",
    "model.add(MaxPooling2D(pool_size=(2, 2),padding='same'))\n",
    "model.add(Flatten())\n",
    "model.add(Dense(128, activation='linear'))\n",
    "model.add(LeakyReLU(alpha=0.1))\n",
    "model.add(Dropout(0.4))\n",
    "model.add(Dense(n_classes, activation='softmax'))\n",
    "\n",
    "# fit model on the augmented dataset\n",
    "# initialize the number of epochs and batch size\n",
    "EPOCHS = 20\n",
    "BS = 64\n",
    "\n",
    "model.compile(loss=keras.losses.categorical_crossentropy, \n",
    "              optimizer=keras.optimizers.Adam(),metrics=['accuracy'])"
   ]
  },
  {
   "cell_type": "code",
   "execution_count": 58,
   "id": "6c0108e4",
   "metadata": {},
   "outputs": [
    {
     "name": "stdout",
     "output_type": "stream",
     "text": [
      "Epoch 1/20\n",
      "53/53 [==============================] - 119s 2s/step - loss: 1.2007 - accuracy: 0.5480 - val_loss: 0.5682 - val_accuracy: 0.7204\n",
      "Epoch 2/20\n",
      "53/53 [==============================] - 117s 2s/step - loss: 0.4892 - accuracy: 0.7946 - val_loss: 0.3607 - val_accuracy: 0.8683\n",
      "Epoch 3/20\n",
      "53/53 [==============================] - 120s 2s/step - loss: 0.3610 - accuracy: 0.8565 - val_loss: 0.5238 - val_accuracy: 0.8011\n",
      "Epoch 4/20\n",
      "53/53 [==============================] - 118s 2s/step - loss: 0.3452 - accuracy: 0.8541 - val_loss: 0.2863 - val_accuracy: 0.9005\n",
      "Epoch 5/20\n",
      "53/53 [==============================] - 117s 2s/step - loss: 0.2374 - accuracy: 0.9064 - val_loss: 0.2455 - val_accuracy: 0.9032\n",
      "Epoch 6/20\n",
      "53/53 [==============================] - 122s 2s/step - loss: 0.1897 - accuracy: 0.9268 - val_loss: 0.2419 - val_accuracy: 0.9140\n",
      "Epoch 7/20\n",
      "53/53 [==============================] - 117s 2s/step - loss: 0.1772 - accuracy: 0.9297 - val_loss: 0.1838 - val_accuracy: 0.9435\n",
      "Epoch 8/20\n",
      "53/53 [==============================] - 117s 2s/step - loss: 0.1663 - accuracy: 0.9438 - val_loss: 0.1594 - val_accuracy: 0.9462\n",
      "Epoch 9/20\n",
      "53/53 [==============================] - 120s 2s/step - loss: 0.1153 - accuracy: 0.9593 - val_loss: 0.1344 - val_accuracy: 0.9597\n",
      "Epoch 10/20\n",
      "53/53 [==============================] - 118s 2s/step - loss: 0.0879 - accuracy: 0.9650 - val_loss: 0.1559 - val_accuracy: 0.9435\n",
      "Epoch 11/20\n",
      "53/53 [==============================] - 119s 2s/step - loss: 0.0574 - accuracy: 0.9770 - val_loss: 0.1071 - val_accuracy: 0.9597\n",
      "Epoch 12/20\n",
      "53/53 [==============================] - 116s 2s/step - loss: 0.0430 - accuracy: 0.9871 - val_loss: 0.2120 - val_accuracy: 0.9301\n",
      "Epoch 13/20\n",
      "53/53 [==============================] - 123s 2s/step - loss: 0.0821 - accuracy: 0.9719 - val_loss: 0.2061 - val_accuracy: 0.9167\n",
      "Epoch 14/20\n",
      "53/53 [==============================] - 113s 2s/step - loss: 0.0802 - accuracy: 0.9725 - val_loss: 0.1937 - val_accuracy: 0.9435\n",
      "Epoch 15/20\n",
      "53/53 [==============================] - 116s 2s/step - loss: 0.0454 - accuracy: 0.9830 - val_loss: 0.1908 - val_accuracy: 0.9382\n",
      "Epoch 16/20\n",
      "53/53 [==============================] - 120s 2s/step - loss: 0.0264 - accuracy: 0.9904 - val_loss: 0.1536 - val_accuracy: 0.9570\n",
      "Epoch 17/20\n",
      "53/53 [==============================] - 128s 2s/step - loss: 0.0091 - accuracy: 0.9985 - val_loss: 0.2026 - val_accuracy: 0.9543\n",
      "Epoch 18/20\n",
      "53/53 [==============================] - 113s 2s/step - loss: 0.0073 - accuracy: 0.9994 - val_loss: 0.1617 - val_accuracy: 0.9624\n",
      "Epoch 19/20\n",
      "53/53 [==============================] - 123s 2s/step - loss: 0.0242 - accuracy: 0.9919 - val_loss: 0.2914 - val_accuracy: 0.9274\n",
      "Epoch 20/20\n",
      "53/53 [==============================] - 120s 2s/step - loss: 0.0119 - accuracy: 0.9973 - val_loss: 0.1720 - val_accuracy: 0.9597\n"
     ]
    }
   ],
   "source": [
    "# train the network\n",
    "H = model.fit(train_X, train_label, batch_size=BS, epochs=EPOCHS,\n",
    "              verbose=1, validation_data=(valid_X, valid_label))"
   ]
  },
  {
   "cell_type": "code",
   "execution_count": 59,
   "id": "7e2c6978",
   "metadata": {},
   "outputs": [],
   "source": [
    "model.save(\"model_70_200_defs.h5\")"
   ]
  },
  {
   "cell_type": "code",
   "execution_count": 60,
   "id": "011f4b4d",
   "metadata": {},
   "outputs": [
    {
     "name": "stdout",
     "output_type": "stream",
     "text": [
      "Test loss: 0.17195174098014832\n",
      "Test accuracy: 0.9596773982048035\n"
     ]
    }
   ],
   "source": [
    "def_model_2 = keras.models.load_model('model_70_200_defs.h5')\n",
    "test_eval = def_model_2.evaluate(valid_X,valid_label, verbose=0)\n",
    "\n",
    "print('Test loss:', test_eval[0])\n",
    "print('Test accuracy:', test_eval[1])"
   ]
  },
  {
   "cell_type": "code",
   "execution_count": 61,
   "id": "ee34432c",
   "metadata": {},
   "outputs": [],
   "source": [
    "predicted_classes = def_model_2.predict(valid_X)\n",
    "predicted_classes = np.argmax(np.round(predicted_classes),axis=1)\n",
    "valid_labels = np.argmax(np.round(valid_label),axis=1)"
   ]
  },
  {
   "cell_type": "code",
   "execution_count": 62,
   "id": "8dc1c942",
   "metadata": {},
   "outputs": [
    {
     "data": {
      "image/png": "[encoded data removed]",
      "text/plain": [
       "<Figure size 432x288 with 1 Axes>"
      ]
     },
     "metadata": {
      "needs_background": "light"
     },
     "output_type": "display_data"
    },
    {
     "data": {
      "image/png": "[encoded data removed]",
      "text/plain": [
       "<Figure size 432x288 with 1 Axes>"
      ]
     },
     "metadata": {
      "needs_background": "light"
     },
     "output_type": "display_data"
    }
   ],
   "source": [
    "acc_loss_plot(H)"
   ]
  },
  {
   "cell_type": "code",
   "execution_count": 63,
   "id": "ec7cb233",
   "metadata": {},
   "outputs": [
    {
     "data": {
      "image/png": "[encoded data removed]",
      "text/plain": [
       "<Figure size 1152x864 with 2 Axes>"
      ]
     },
     "metadata": {
      "needs_background": "light"
     },
     "output_type": "display_data"
    }
   ],
   "source": [
    "plot_confusion_matrix(confusion_matrix(valid_labels, predicted_classes), target_names = classes)"
   ]
  },
  {
   "cell_type": "code",
   "execution_count": 64,
   "id": "857a621b",
   "metadata": {},
   "outputs": [
    {
     "name": "stdout",
     "output_type": "stream",
     "text": [
      "              precision    recall  f1-score   support\n",
      "\n",
      "   colon_aca       0.99      0.93      0.96        71\n",
      "     colon_n       0.94      1.00      0.97        74\n",
      "    lung_aca       0.95      0.89      0.92        63\n",
      "      lung_n       1.00      0.99      0.99        87\n",
      "    lung_scc       0.93      0.97      0.95        77\n",
      "\n",
      "    accuracy                           0.96       372\n",
      "   macro avg       0.96      0.96      0.96       372\n",
      "weighted avg       0.96      0.96      0.96       372\n",
      "\n"
     ]
    }
   ],
   "source": [
    "target_names = [\"Class {}\".format(i) for i in range(n_classes)]\n",
    "print(classification_report(valid_labels, predicted_classes, target_names=classes))"
   ]
  },
  {
   "cell_type": "markdown",
   "id": "8769cc41",
   "metadata": {},
   "source": [
    "### Comprovem com va classificar el model inicial entrenat amb les dades errònies"
   ]
  },
  {
   "cell_type": "code",
   "execution_count": 65,
   "id": "5e59de06",
   "metadata": {},
   "outputs": [],
   "source": [
    "def_model_defs = keras.models.load_model('model_70_200_defs.h5')"
   ]
  },
  {
   "cell_type": "code",
   "execution_count": 66,
   "id": "9e447bfa",
   "metadata": {},
   "outputs": [],
   "source": [
    "prediction = def_model_defs.predict(clean_X)\n",
    "pred_labs_defs = []\n",
    "\n",
    "for i in range(len(prediction)):\n",
    "    pred_labs_defs.append(np.argmax(prediction[i]))"
   ]
  },
  {
   "cell_type": "code",
   "execution_count": 67,
   "id": "4d4b5b99",
   "metadata": {},
   "outputs": [
    {
     "data": {
      "text/plain": [
       "0.848"
      ]
     },
     "execution_count": 67,
     "metadata": {},
     "output_type": "execute_result"
    }
   ],
   "source": [
    "sum(pred_labs_defs == clean_Y)/len(clean_Y)"
   ]
  }
 ],
 "metadata": {
  "accelerator": "TPU",
  "colab": {
   "collapsed_sections": [
    "bright-brisbane",
    "manufactured-begin",
    "intended-professor",
    "divine-diesel",
    "verified-guarantee"
   ],
   "name": "TFG.ipynb",
   "provenance": []
  },
  "kernelspec": {
   "display_name": "Python 3 (ipykernel)",
   "language": "python",
   "name": "python3"
  },
  "language_info": {
   "codemirror_mode": {
    "name": "ipython",
    "version": 3
   },
   "file_extension": ".py",
   "mimetype": "text/x-python",
   "name": "python",
   "nbconvert_exporter": "python",
   "pygments_lexer": "ipython3",
   "version": "3.9.7"
  }
 },
 "nbformat": 4,
 "nbformat_minor": 5
}
