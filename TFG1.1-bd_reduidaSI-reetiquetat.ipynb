{
 "cells": [
  {
   "cell_type": "markdown",
   "id": "f523d167",
   "metadata": {
    "id": "comfortable-avenue"
   },
   "source": [
    "## Packages"
   ]
  },
  {
   "cell_type": "code",
   "execution_count": 1,
   "id": "7b1231d0",
   "metadata": {
    "id": "blond-ceramic",
    "scrolled": true
   },
   "outputs": [],
   "source": [
    "import pandas as pd\n",
    "\n",
    "import numpy as np\n",
    "\n",
    "import matplotlib.pyplot as plt\n",
    "\n",
    "import os\n",
    "\n",
    "import collections\n",
    "import random\n",
    "\n",
    "import tensorflow as tf\n",
    "from tensorflow import keras\n",
    "from tensorflow.keras import layers\n",
    "from tensorflow.keras.preprocessing.image import load_img\n",
    "\n",
    "import keras\n",
    "from keras.models import Sequential,Input,Model\n",
    "from keras.layers import Dense, Dropout, Flatten\n",
    "from keras.layers import Conv2D, MaxPooling2D\n",
    "from keras.layers.normalization import BatchNormalization\n",
    "from keras.layers.advanced_activations import LeakyReLU\n",
    "from sklearn.model_selection import StratifiedKFold\n",
    "from tensorflow.keras.layers.experimental.preprocessing import Rescaling\n",
    "\n",
    "from sklearn.model_selection import train_test_split\n",
    "from sklearn.metrics import classification_report\n",
    "from sklearn.metrics import confusion_matrix\n",
    "\n",
    "from cleanlab.noise_generation import generate_noisy_labels\n",
    "from cleanlab.util import print_noise_matrix\n",
    "from cleanlab import baseline_methods\n",
    "from cleanlab.latent_estimation import compute_confident_joint"
   ]
  },
  {
   "cell_type": "code",
   "execution_count": 2,
   "id": "e1f9e7a3",
   "metadata": {},
   "outputs": [],
   "source": [
    "def plot_confusion_matrix(cm,\n",
    "                          target_names,\n",
    "                          title='Confusion matrix',\n",
    "                          cmap=None,\n",
    "                          normalize=True):\n",
    "    \"\"\"\n",
    "    given a sklearn confusion matrix (cm), make a nice plot\n",
    "\n",
    "    Arguments\n",
    "    ---------\n",
    "    cm:           confusion matrix from sklearn.metrics.confusion_matrix\n",
    "\n",
    "    target_names: given classification classes such as [0, 1, 2]\n",
    "                  the class names, for example: ['high', 'medium', 'low']\n",
    "\n",
    "    title:        the text to display at the top of the matrix\n",
    "\n",
    "    cmap:         the gradient of the values displayed from matplotlib.pyplot.cm\n",
    "                  see http://matplotlib.org/examples/color/colormaps_reference.html\n",
    "                  plt.get_cmap('jet') or plt.cm.Blues\n",
    "\n",
    "    normalize:    If False, plot the raw numbers\n",
    "                  If True, plot the proportions\n",
    "\n",
    "    Usage\n",
    "    -----\n",
    "    plot_confusion_matrix(cm           = cm,                  # confusion matrix created by\n",
    "                                                              # sklearn.metrics.confusion_matrix\n",
    "                          normalize    = True,                # show proportions\n",
    "                          target_names = y_labels_vals,       # list of names of the classes\n",
    "                          title        = best_estimator_name) # title of graph\n",
    "\n",
    "    Citiation\n",
    "    ---------\n",
    "    http://scikit-learn.org/stable/auto_examples/model_selection/plot_confusion_matrix.html\n",
    "\n",
    "    \"\"\"\n",
    "    import matplotlib.pyplot as plt\n",
    "    import numpy as np\n",
    "    import itertools\n",
    "\n",
    "    accuracy = np.trace(cm) / float(np.sum(cm))\n",
    "    misclass = 1 - accuracy\n",
    "\n",
    "    if cmap is None:\n",
    "        cmap = plt.get_cmap('Blues')\n",
    "\n",
    "    plt.figure(figsize=(16, 12))\n",
    "    plt.imshow(cm, interpolation='nearest', cmap=cmap)\n",
    "    plt.title(title)\n",
    "    plt.colorbar()\n",
    "\n",
    "    if target_names is not None:\n",
    "        tick_marks = np.arange(len(target_names))\n",
    "        plt.xticks(tick_marks, target_names, rotation=45)\n",
    "        plt.yticks(tick_marks, target_names)\n",
    "\n",
    "    if normalize:\n",
    "        cm = cm.astype('float') / cm.sum(axis=1)[:, np.newaxis]\n",
    "\n",
    "\n",
    "    thresh = cm.max() / 1.5 if normalize else cm.max() / 2\n",
    "    for i, j in itertools.product(range(cm.shape[0]), range(cm.shape[1])):\n",
    "        if normalize:\n",
    "            plt.text(j, i, \"{:0.2f}\".format(cm[i, j]),\n",
    "                     horizontalalignment=\"center\",\n",
    "                     color=\"white\" if cm[i, j] > thresh else \"black\")\n",
    "        else:\n",
    "            plt.text(j, i, \"{:,}\".format(cm[i, j]),\n",
    "                     horizontalalignment=\"center\",\n",
    "                     color=\"white\" if cm[i, j] > thresh else \"black\")\n",
    "\n",
    "\n",
    "    plt.tight_layout()\n",
    "    plt.ylabel('True label')\n",
    "    plt.xlabel('Predicted label\\naccuracy={:0.4f}; misclass={:0.4f}'.format(accuracy, misclass))\n",
    "    plt.show()\n",
    "    \n",
    "    \n",
    "def acc_loss_plot(network):\n",
    "    accuracy = network.history['accuracy']\n",
    "    val_accuracy = network.history['val_accuracy']\n",
    "    loss = network.history['loss']\n",
    "    val_loss = network.history['val_loss']\n",
    "    epochs = range(len(accuracy))\n",
    "    plt.plot(epochs, accuracy, 'bo', label='Training accuracy')\n",
    "    plt.plot(epochs, val_accuracy, 'c', label='Validation accuracy')\n",
    "    plt.title('Training and validation accuracy')\n",
    "    plt.legend()\n",
    "    plt.figure()\n",
    "    plt.plot(epochs, loss, 'bo', label='Training loss')\n",
    "    plt.plot(epochs, val_loss, 'c', label='Validation loss')\n",
    "    plt.title('Training and validation loss')\n",
    "    plt.legend()\n",
    "    plt.show()"
   ]
  },
  {
   "cell_type": "markdown",
   "id": "c7455e0d",
   "metadata": {
    "id": "transsexual-decision"
   },
   "source": [
    "## Lectura de les dades"
   ]
  },
  {
   "cell_type": "code",
   "execution_count": 3,
   "id": "71a7c345",
   "metadata": {
    "scrolled": true
   },
   "outputs": [
    {
     "name": "stdout",
     "output_type": "stream",
     "text": [
      "2.6.0\n"
     ]
    }
   ],
   "source": [
    "print(tf. __version__)"
   ]
  },
  {
   "cell_type": "code",
   "execution_count": 4,
   "id": "2afbd7f1",
   "metadata": {
    "colab": {
     "base_uri": "https://localhost:8080/"
    },
    "executionInfo": {
     "elapsed": 28264,
     "status": "ok",
     "timestamp": 1638284310466,
     "user": {
      "displayName": "Aida Fernandez",
      "photoUrl": "https://lh3.googleusercontent.com/a/default-user=s64",
      "userId": "06772576507680919815"
     },
     "user_tz": -60
    },
    "id": "tC7AESnKeKC6",
    "outputId": "0d284775-c8bd-44a2-b2a8-c901f140af35",
    "scrolled": false
   },
   "outputs": [
    {
     "data": {
      "text/plain": [
       "'C:\\\\Users\\\\aidaf\\\\TFG'"
      ]
     },
     "execution_count": 4,
     "metadata": {},
     "output_type": "execute_result"
    }
   ],
   "source": [
    "os.getcwd()"
   ]
  },
  {
   "cell_type": "code",
   "execution_count": 5,
   "id": "610d135e",
   "metadata": {
    "id": "ukoFgnSEkhUd"
   },
   "outputs": [
    {
     "data": {
      "text/plain": [
       "'C:\\\\Users\\\\aidaf\\\\TFG\\\\reduced'"
      ]
     },
     "execution_count": 5,
     "metadata": {},
     "output_type": "execute_result"
    }
   ],
   "source": [
    "data_dir = os.path.join(os.getcwd() + \"\\\\reduced\")\n",
    "data_dir"
   ]
  },
  {
   "cell_type": "code",
   "execution_count": 6,
   "id": "883368bc",
   "metadata": {},
   "outputs": [
    {
     "name": "stdout",
     "output_type": "stream",
     "text": [
      "['colon_aca', 'colon_n', 'lung_aca', 'lung_n', 'lung_scc']\n"
     ]
    }
   ],
   "source": [
    "classes = os. listdir(data_dir)\n",
    "print(classes)"
   ]
  },
  {
   "cell_type": "code",
   "execution_count": 7,
   "id": "43dacf52",
   "metadata": {
    "scrolled": true
   },
   "outputs": [],
   "source": [
    "dades_Y_clean = np.load('labels_reduced_clean_train.npy')\n",
    "dades_X_clean = np.load('images_reduced_clean_train.npy')\n",
    "\n",
    "dades_Y_resta = np.load('labels_reduced_train.npy')\n",
    "dades_X_resta = np.load('images_reduced_train.npy')"
   ]
  },
  {
   "cell_type": "code",
   "execution_count": 8,
   "id": "bde5f0a4",
   "metadata": {},
   "outputs": [
    {
     "data": {
      "text/plain": [
       "((500, 120, 120, 3), (500,))"
      ]
     },
     "execution_count": 8,
     "metadata": {},
     "output_type": "execute_result"
    }
   ],
   "source": [
    "clean_Y = np.load('labels_reduced_clean.npy')\n",
    "clean_X = np.load('images_reduced_clean.npy')\n",
    "\n",
    "clean_X.shape, clean_Y.shape"
   ]
  },
  {
   "cell_type": "markdown",
   "id": "c0ddeb48",
   "metadata": {
    "id": "bright-brisbane"
   },
   "source": [
    "## Descripció de les dades"
   ]
  },
  {
   "cell_type": "markdown",
   "id": "3291ae07",
   "metadata": {
    "id": "excess-dictionary"
   },
   "source": [
    "Dimensió: "
   ]
  },
  {
   "cell_type": "code",
   "execution_count": 9,
   "id": "b8bedda0",
   "metadata": {
    "id": "relative-apartment",
    "scrolled": true
   },
   "outputs": [
    {
     "name": "stdout",
     "output_type": "stream",
     "text": [
      "Dimensions de les dades :  (1000, 120, 120, 3) (1000,)\n",
      "Dimensions de les dades :  (3500, 120, 120, 3) (3500,)\n"
     ]
    }
   ],
   "source": [
    "print('Dimensions de les dades : ', dades_X_clean.shape, dades_Y_clean.shape)\n",
    "print('Dimensions de les dades : ', dades_X_resta.shape, dades_Y_resta.shape)"
   ]
  },
  {
   "cell_type": "markdown",
   "id": "f857531c",
   "metadata": {
    "id": "diagnostic-individual"
   },
   "source": [
    "Nombre de classes i etiquetes: "
   ]
  },
  {
   "cell_type": "code",
   "execution_count": 10,
   "id": "c908c60b",
   "metadata": {
    "id": "close-frontier"
   },
   "outputs": [
    {
     "name": "stdout",
     "output_type": "stream",
     "text": [
      "Nombre de classes :  5\n",
      "Etiquetes de les classes :  ['colon_aca', 'colon_n', 'lung_aca', 'lung_n', 'lung_scc']\n"
     ]
    }
   ],
   "source": [
    "n_classes = len(classes)\n",
    "print('Nombre de classes : ', n_classes)\n",
    "print('Etiquetes de les classes : ', classes)"
   ]
  },
  {
   "cell_type": "markdown",
   "id": "07a58a67",
   "metadata": {
    "id": "unsigned-marathon"
   },
   "source": [
    "Distribució de les classes: "
   ]
  },
  {
   "cell_type": "code",
   "execution_count": 11,
   "id": "a0e9471a",
   "metadata": {
    "id": "fossil-lancaster",
    "scrolled": true
   },
   "outputs": [
    {
     "name": "stdout",
     "output_type": "stream",
     "text": [
      "Distribució de les classes :  Counter({0: 200, 4: 200, 3: 200, 1: 200, 2: 200})\n",
      "Distribució de les classes :  Counter({2: 700, 3: 700, 4: 700, 0: 700, 1: 700})\n"
     ]
    }
   ],
   "source": [
    "print(\"Distribució de les classes : \",collections.Counter(dades_Y_clean))\n",
    "print(\"Distribució de les classes : \",collections.Counter(dades_Y_resta))"
   ]
  },
  {
   "cell_type": "markdown",
   "id": "f30f9175",
   "metadata": {},
   "source": [
    "# Augmentem encara més el soroll"
   ]
  },
  {
   "cell_type": "code",
   "execution_count": 12,
   "id": "d67d2e62",
   "metadata": {},
   "outputs": [
    {
     "data": {
      "text/plain": [
       "array([ True,  True,  True,  True,  True])"
      ]
     },
     "execution_count": 12,
     "metadata": {},
     "output_type": "execute_result"
    }
   ],
   "source": [
    "noise_matrix = np.array([[.7,.2,.04,.03,.03],\n",
    "                         [.2,.7,.04,.03,.03],\n",
    "                         [.05,.01,.68,.13,.13],\n",
    "                         [.01,.02,.12,.7,.15],\n",
    "                         [.04,.04,.17,.05,.7]])\n",
    "\n",
    "np.sum(noise_matrix,1) == 1"
   ]
  },
  {
   "cell_type": "code",
   "execution_count": 13,
   "id": "59c8a600",
   "metadata": {
    "scrolled": true
   },
   "outputs": [
    {
     "name": "stdout",
     "output_type": "stream",
     "text": [
      "\n",
      " Noise Matrix (aka Noisy Channel) P(s|y) of shape (5, 5)\n",
      " p(s|y)\ty=0\ty=1\ty=2\ty=3\ty=4\n",
      "\t---\t---\t---\t---\t---\n",
      "s=0 |\t0.7\t0.2\t0.04\t0.03\t0.03\n",
      "s=1 |\t0.2\t0.7\t0.04\t0.03\t0.03\n",
      "s=2 |\t0.05\t0.01\t0.68\t0.13\t0.13\n",
      "s=3 |\t0.01\t0.02\t0.12\t0.7\t0.15\n",
      "s=4 |\t0.04\t0.04\t0.17\t0.05\t0.7\n",
      "\tTrace(matrix) = 3.48\n",
      "\n",
      "------------------------------------------------------\n",
      "% d'etiquetes netes:  0.696\n",
      "------------------------------------------------------\n",
      "(900, 120, 120, 3) (100, 120, 120, 3) (900, 5) (100, 5)\n",
      "------------------------------------------------------\n",
      "Distribució de les classes :  Counter({3: 742, 1: 721, 0: 700, 4: 672, 2: 665})\n"
     ]
    }
   ],
   "source": [
    "print_noise_matrix(noise_matrix)\n",
    "np.random.seed(seed=1)\n",
    "# Create the noisy labels. This method is exact w.r.t. the noise_matrix.\n",
    "y_train_w_errors = generate_noisy_labels(dades_Y_resta, noise_matrix)\n",
    "\n",
    "\n",
    "print(\"------------------------------------------------------\")\n",
    "print(\"% d'etiquetes netes: \",sum(y_train_w_errors == dades_Y_resta)/len(dades_Y_resta))\n",
    "\n",
    "print(\"------------------------------------------------------\")\n",
    "\n",
    "dades_Y_one_hot = np.array(pd.get_dummies(dades_Y_clean))\n",
    "dades_Y_one_hot = dades_Y_one_hot.astype('float32')\n",
    "\n",
    "train_X,valid_X,train_label,valid_label = train_test_split(dades_X_clean, dades_Y_one_hot, test_size=0.1, \n",
    "                                                           random_state=13,stratify=dades_Y_one_hot)\n",
    "\n",
    "print(train_X.shape,valid_X.shape,train_label.shape,valid_label.shape)\n",
    "\n",
    "print(\"------------------------------------------------------\")\n",
    "\n",
    "print(\"Distribució de les classes : \",collections.Counter(y_train_w_errors))"
   ]
  },
  {
   "cell_type": "code",
   "execution_count": 14,
   "id": "85854f5c",
   "metadata": {},
   "outputs": [],
   "source": [
    "model = Sequential()\n",
    "model.add(Rescaling(1./255, input_shape=(dades_X_clean.shape[1],dades_X_clean.shape[2],3)))\n",
    "model.add(Conv2D(32, kernel_size=(3, 3),activation='linear', padding='same'))\n",
    "model.add(LeakyReLU(alpha=0.1))\n",
    "model.add(MaxPooling2D((2, 2),padding='same'))\n",
    "model.add(Conv2D(64, (3, 3), activation='linear',padding='same'))\n",
    "model.add(LeakyReLU(alpha=0.1))\n",
    "model.add(MaxPooling2D(pool_size=(2, 2),padding='same'))\n",
    "model.add(Conv2D(128, (3, 3), activation='linear',padding='same'))\n",
    "model.add(LeakyReLU(alpha=0.1))\n",
    "model.add(MaxPooling2D(pool_size=(2, 2),padding='same'))\n",
    "model.add(Flatten())\n",
    "model.add(Dense(128, activation='linear'))\n",
    "model.add(LeakyReLU(alpha=0.1))\n",
    "model.add(Dropout(0.4))\n",
    "model.add(Dense(n_classes, activation='softmax'))\n",
    "\n",
    "# fit model on the augmented dataset\n",
    "# initialize the number of epochs and batch size\n",
    "EPOCHS = 20\n",
    "BS = 64\n",
    "\n",
    "model.compile(loss=keras.losses.categorical_crossentropy, \n",
    "              optimizer=keras.optimizers.Adam(),metrics=['accuracy'])"
   ]
  },
  {
   "cell_type": "code",
   "execution_count": 15,
   "id": "d56ac640",
   "metadata": {
    "scrolled": true
   },
   "outputs": [
    {
     "name": "stdout",
     "output_type": "stream",
     "text": [
      "Epoch 1/20\n",
      "15/15 [==============================] - 35s 2s/step - loss: 1.8057 - accuracy: 0.3278 - val_loss: 1.1092 - val_accuracy: 0.4000\n",
      "Epoch 2/20\n",
      "15/15 [==============================] - 31s 2s/step - loss: 1.0047 - accuracy: 0.5011 - val_loss: 0.7688 - val_accuracy: 0.5700\n",
      "Epoch 3/20\n",
      "15/15 [==============================] - 31s 2s/step - loss: 0.9229 - accuracy: 0.5889 - val_loss: 0.6555 - val_accuracy: 0.6800\n",
      "Epoch 4/20\n",
      "15/15 [==============================] - 31s 2s/step - loss: 0.7510 - accuracy: 0.6500 - val_loss: 0.6169 - val_accuracy: 0.6700\n",
      "Epoch 5/20\n",
      "15/15 [==============================] - 31s 2s/step - loss: 0.7339 - accuracy: 0.6578 - val_loss: 0.6932 - val_accuracy: 0.6000\n",
      "Epoch 6/20\n",
      "15/15 [==============================] - 31s 2s/step - loss: 0.7375 - accuracy: 0.6444 - val_loss: 0.8050 - val_accuracy: 0.6600\n",
      "Epoch 7/20\n",
      "15/15 [==============================] - 31s 2s/step - loss: 0.6639 - accuracy: 0.7022 - val_loss: 0.5567 - val_accuracy: 0.7200\n",
      "Epoch 8/20\n",
      "15/15 [==============================] - 32s 2s/step - loss: 0.5734 - accuracy: 0.7378 - val_loss: 0.5264 - val_accuracy: 0.7400\n",
      "Epoch 9/20\n",
      "15/15 [==============================] - 33s 2s/step - loss: 0.5243 - accuracy: 0.7578 - val_loss: 0.6513 - val_accuracy: 0.7600\n",
      "Epoch 10/20\n",
      "15/15 [==============================] - 31s 2s/step - loss: 0.4707 - accuracy: 0.7989 - val_loss: 0.7464 - val_accuracy: 0.5900\n",
      "Epoch 11/20\n",
      "15/15 [==============================] - 31s 2s/step - loss: 0.5362 - accuracy: 0.7633 - val_loss: 0.6004 - val_accuracy: 0.7100\n",
      "Epoch 12/20\n",
      "15/15 [==============================] - 32s 2s/step - loss: 0.4587 - accuracy: 0.7778 - val_loss: 0.4905 - val_accuracy: 0.7500\n",
      "Epoch 13/20\n",
      "15/15 [==============================] - 31s 2s/step - loss: 0.4368 - accuracy: 0.8000 - val_loss: 0.5047 - val_accuracy: 0.7500\n",
      "Epoch 14/20\n",
      "15/15 [==============================] - 31s 2s/step - loss: 0.3832 - accuracy: 0.8456 - val_loss: 0.5397 - val_accuracy: 0.7100\n",
      "Epoch 15/20\n",
      "15/15 [==============================] - 31s 2s/step - loss: 0.4243 - accuracy: 0.8133 - val_loss: 0.6301 - val_accuracy: 0.6600\n",
      "Epoch 16/20\n",
      "15/15 [==============================] - 32s 2s/step - loss: 0.3739 - accuracy: 0.8256 - val_loss: 0.5786 - val_accuracy: 0.6900\n",
      "Epoch 17/20\n",
      "15/15 [==============================] - 32s 2s/step - loss: 0.2838 - accuracy: 0.8844 - val_loss: 0.4393 - val_accuracy: 0.8300\n",
      "Epoch 18/20\n",
      "15/15 [==============================] - 31s 2s/step - loss: 0.2775 - accuracy: 0.8833 - val_loss: 0.4361 - val_accuracy: 0.8300\n",
      "Epoch 19/20\n",
      "15/15 [==============================] - 31s 2s/step - loss: 0.2322 - accuracy: 0.9089 - val_loss: 1.0014 - val_accuracy: 0.7100\n",
      "Epoch 20/20\n",
      "15/15 [==============================] - 29s 2s/step - loss: 0.2582 - accuracy: 0.9011 - val_loss: 0.5330 - val_accuracy: 0.8100\n"
     ]
    }
   ],
   "source": [
    "# train the network\n",
    "H = model.fit(train_X, train_label, batch_size=BS, epochs=EPOCHS,\n",
    "              verbose=1, validation_data=(valid_X, valid_label))"
   ]
  },
  {
   "cell_type": "code",
   "execution_count": 16,
   "id": "16d4ecd6",
   "metadata": {},
   "outputs": [],
   "source": [
    "model.save(\"model_70_subset.h5\")"
   ]
  },
  {
   "cell_type": "code",
   "execution_count": 17,
   "id": "9d71f6d7",
   "metadata": {
    "scrolled": true
   },
   "outputs": [
    {
     "name": "stdout",
     "output_type": "stream",
     "text": [
      "Test loss: 0.5329759120941162\n",
      "Test accuracy: 0.8100000023841858\n"
     ]
    }
   ],
   "source": [
    "def_model = keras.models.load_model('model_70_subset.h5')\n",
    "test_eval = def_model.evaluate(valid_X,valid_label, verbose=0)\n",
    "\n",
    "print('Test loss:', test_eval[0])\n",
    "print('Test accuracy:', test_eval[1])"
   ]
  },
  {
   "cell_type": "code",
   "execution_count": 18,
   "id": "3f4e2a1a",
   "metadata": {},
   "outputs": [],
   "source": [
    "predicted_classes = def_model.predict(valid_X)\n",
    "predicted_classes = np.argmax(np.round(predicted_classes),axis=1)\n",
    "valid_labels = np.argmax(np.round(valid_label),axis=1)"
   ]
  },
  {
   "cell_type": "code",
   "execution_count": 19,
   "id": "e810bd19",
   "metadata": {
    "scrolled": true
   },
   "outputs": [
    {
     "data": {
      "image/png": "[encoded data removed]",
      "text/plain": [
       "<Figure size 432x288 with 1 Axes>"
      ]
     },
     "metadata": {
      "needs_background": "light"
     },
     "output_type": "display_data"
    },
    {
     "data": {
      "image/png": "[encoded data removed]",
      "text/plain": [
       "<Figure size 432x288 with 1 Axes>"
      ]
     },
     "metadata": {
      "needs_background": "light"
     },
     "output_type": "display_data"
    }
   ],
   "source": [
    "acc_loss_plot(H)"
   ]
  },
  {
   "cell_type": "code",
   "execution_count": 20,
   "id": "a595e7d2",
   "metadata": {
    "scrolled": true
   },
   "outputs": [
    {
     "data": {
      "image/png": "[encoded data removed]",
      "text/plain": [
       "<Figure size 1152x864 with 2 Axes>"
      ]
     },
     "metadata": {
      "needs_background": "light"
     },
     "output_type": "display_data"
    }
   ],
   "source": [
    "plot_confusion_matrix(confusion_matrix(valid_labels, predicted_classes), target_names = classes)"
   ]
  },
  {
   "cell_type": "code",
   "execution_count": 21,
   "id": "a05a199b",
   "metadata": {
    "scrolled": false
   },
   "outputs": [
    {
     "name": "stdout",
     "output_type": "stream",
     "text": [
      "              precision    recall  f1-score   support\n",
      "\n",
      "   colon_aca       1.00      0.70      0.82        20\n",
      "     colon_n       0.80      1.00      0.89        20\n",
      "    lung_aca       0.65      0.75      0.70        20\n",
      "      lung_n       0.95      1.00      0.98        20\n",
      "    lung_scc       0.71      0.60      0.65        20\n",
      "\n",
      "    accuracy                           0.81       100\n",
      "   macro avg       0.82      0.81      0.81       100\n",
      "weighted avg       0.82      0.81      0.81       100\n",
      "\n"
     ]
    }
   ],
   "source": [
    "target_names = [\"Class {}\".format(i) for i in range(n_classes)]\n",
    "print(classification_report(valid_labels, predicted_classes, target_names=classes))"
   ]
  },
  {
   "cell_type": "markdown",
   "id": "51d1c2b1",
   "metadata": {},
   "source": [
    "## Demanem al model que digui quines prediccions són errónies"
   ]
  },
  {
   "cell_type": "code",
   "execution_count": 22,
   "id": "64dca29c",
   "metadata": {},
   "outputs": [],
   "source": [
    "prediccions = def_model.predict(dades_X_resta)\n",
    "prediccions = np.argmax(np.round(prediccions),axis=1)"
   ]
  },
  {
   "cell_type": "code",
   "execution_count": 23,
   "id": "17dea5f6",
   "metadata": {},
   "outputs": [
    {
     "name": "stdout",
     "output_type": "stream",
     "text": [
      "0.8051428571428572 0.19485714285714284\n"
     ]
    }
   ],
   "source": [
    "print(sum(prediccions == dades_Y_resta)/len(prediccions),\n",
    "1 - sum(prediccions == dades_Y_resta)/len(prediccions))"
   ]
  },
  {
   "cell_type": "markdown",
   "id": "22ed6e8e",
   "metadata": {},
   "source": [
    "El model indica que un 87% de les nostres etiquetes són correctes però que un 13% són noisy labels."
   ]
  },
  {
   "cell_type": "code",
   "execution_count": 24,
   "id": "481d329a",
   "metadata": {
    "scrolled": true
   },
   "outputs": [
    {
     "name": "stdout",
     "output_type": "stream",
     "text": [
      "(4500, 120, 120, 3) (4500,)\n"
     ]
    }
   ],
   "source": [
    "new_Y = np.concatenate((dades_Y_clean, prediccions),axis = 0)\n",
    "new_X = np.concatenate((dades_X_clean, dades_X_resta),axis = 0)\n",
    "\n",
    "print(new_X.shape,new_Y.shape)"
   ]
  },
  {
   "cell_type": "code",
   "execution_count": 25,
   "id": "2bb2d30e",
   "metadata": {
    "scrolled": false
   },
   "outputs": [
    {
     "name": "stdout",
     "output_type": "stream",
     "text": [
      "(4050, 120, 120, 3) (450, 120, 120, 3) (4050, 5) (450, 5)\n",
      "------------------------------------------------------\n",
      "Distribució de les classes :  Counter({1: 1090, 2: 987, 3: 890, 4: 830, 0: 703})\n"
     ]
    }
   ],
   "source": [
    "dades_Y_one_hot = np.array(pd.get_dummies(new_Y))\n",
    "dades_Y_one_hot = dades_Y_one_hot.astype('float32')\n",
    "\n",
    "train_X,valid_X,train_label,valid_label = train_test_split(new_X, dades_Y_one_hot, test_size=0.1, \n",
    "                                                           random_state=13,stratify=new_Y)\n",
    "\n",
    "print(train_X.shape,valid_X.shape,train_label.shape,valid_label.shape)\n",
    "\n",
    "print(\"------------------------------------------------------\")\n",
    "\n",
    "print(\"Distribució de les classes : \",collections.Counter(new_Y))"
   ]
  },
  {
   "cell_type": "code",
   "execution_count": 26,
   "id": "81d0a187",
   "metadata": {},
   "outputs": [],
   "source": [
    "model = Sequential()\n",
    "model.add(Rescaling(1./255, input_shape=(dades_X_clean.shape[1],dades_X_clean.shape[2],3)))\n",
    "model.add(Conv2D(32, kernel_size=(3, 3),activation='linear', padding='same'))\n",
    "model.add(LeakyReLU(alpha=0.1))\n",
    "model.add(MaxPooling2D((2, 2),padding='same'))\n",
    "model.add(Conv2D(64, (3, 3), activation='linear',padding='same'))\n",
    "model.add(LeakyReLU(alpha=0.1))\n",
    "model.add(MaxPooling2D(pool_size=(2, 2),padding='same'))\n",
    "model.add(Conv2D(128, (3, 3), activation='linear',padding='same'))\n",
    "model.add(LeakyReLU(alpha=0.1))\n",
    "model.add(MaxPooling2D(pool_size=(2, 2),padding='same'))\n",
    "model.add(Flatten())\n",
    "model.add(Dense(128, activation='linear'))\n",
    "model.add(LeakyReLU(alpha=0.1))\n",
    "model.add(Dropout(0.4))\n",
    "model.add(Dense(n_classes, activation='softmax'))\n",
    "\n",
    "# fit model on the augmented dataset\n",
    "# initialize the number of epochs and batch size\n",
    "EPOCHS = 20\n",
    "BS = 64\n",
    "\n",
    "model.compile(loss=keras.losses.categorical_crossentropy, \n",
    "              optimizer=keras.optimizers.Adam(),metrics=['accuracy'])"
   ]
  },
  {
   "cell_type": "code",
   "execution_count": 27,
   "id": "30f95b2a",
   "metadata": {
    "scrolled": false
   },
   "outputs": [
    {
     "name": "stdout",
     "output_type": "stream",
     "text": [
      "Epoch 1/20\n",
      "64/64 [==============================] - 129s 2s/step - loss: 0.9335 - accuracy: 0.5862 - val_loss: 0.6926 - val_accuracy: 0.6378\n",
      "Epoch 2/20\n",
      "64/64 [==============================] - 137s 2s/step - loss: 0.4880 - accuracy: 0.7847 - val_loss: 0.4032 - val_accuracy: 0.8422\n",
      "Epoch 3/20\n",
      "64/64 [==============================] - 137s 2s/step - loss: 0.3814 - accuracy: 0.8440 - val_loss: 0.3193 - val_accuracy: 0.8933\n",
      "Epoch 4/20\n",
      "64/64 [==============================] - 136s 2s/step - loss: 0.3466 - accuracy: 0.8523 - val_loss: 0.4562 - val_accuracy: 0.8444\n",
      "Epoch 5/20\n",
      "64/64 [==============================] - 138s 2s/step - loss: 0.2613 - accuracy: 0.9025 - val_loss: 0.2873 - val_accuracy: 0.9044\n",
      "Epoch 6/20\n",
      "64/64 [==============================] - 137s 2s/step - loss: 0.1800 - accuracy: 0.9309 - val_loss: 0.3964 - val_accuracy: 0.8733\n",
      "Epoch 7/20\n",
      "64/64 [==============================] - 128s 2s/step - loss: 0.1864 - accuracy: 0.9274 - val_loss: 0.4217 - val_accuracy: 0.8622\n",
      "Epoch 8/20\n",
      "64/64 [==============================] - 157s 2s/step - loss: 0.1694 - accuracy: 0.9338 - val_loss: 0.4757 - val_accuracy: 0.8556\n",
      "Epoch 9/20\n",
      "64/64 [==============================] - 163s 3s/step - loss: 0.1569 - accuracy: 0.9432 - val_loss: 0.4104 - val_accuracy: 0.8822\n",
      "Epoch 10/20\n",
      "64/64 [==============================] - 138s 2s/step - loss: 0.1131 - accuracy: 0.9588 - val_loss: 0.3669 - val_accuracy: 0.9000\n",
      "Epoch 11/20\n",
      "64/64 [==============================] - 153s 2s/step - loss: 0.0785 - accuracy: 0.9694 - val_loss: 0.4987 - val_accuracy: 0.8467\n",
      "Epoch 12/20\n",
      "64/64 [==============================] - 177s 3s/step - loss: 0.0732 - accuracy: 0.9763 - val_loss: 0.4151 - val_accuracy: 0.8844\n",
      "Epoch 13/20\n",
      "64/64 [==============================] - 174s 3s/step - loss: 0.0537 - accuracy: 0.9815 - val_loss: 0.4028 - val_accuracy: 0.9000\n",
      "Epoch 14/20\n",
      "64/64 [==============================] - 244s 4s/step - loss: 0.0826 - accuracy: 0.9677 - val_loss: 0.4639 - val_accuracy: 0.8867\n",
      "Epoch 15/20\n",
      "64/64 [==============================] - 179s 3s/step - loss: 0.0446 - accuracy: 0.9859 - val_loss: 0.4974 - val_accuracy: 0.8978\n",
      "Epoch 16/20\n",
      "64/64 [==============================] - 159s 2s/step - loss: 0.0531 - accuracy: 0.9827 - val_loss: 0.4496 - val_accuracy: 0.9067\n",
      "Epoch 17/20\n",
      "64/64 [==============================] - 172s 3s/step - loss: 0.0395 - accuracy: 0.9852 - val_loss: 0.4962 - val_accuracy: 0.9067\n",
      "Epoch 18/20\n",
      "64/64 [==============================] - 162s 3s/step - loss: 0.0313 - accuracy: 0.9891 - val_loss: 0.5395 - val_accuracy: 0.8956\n",
      "Epoch 19/20\n",
      "64/64 [==============================] - 153s 2s/step - loss: 0.0374 - accuracy: 0.9872 - val_loss: 0.5565 - val_accuracy: 0.8822\n",
      "Epoch 20/20\n",
      "64/64 [==============================] - 162s 3s/step - loss: 0.0286 - accuracy: 0.9921 - val_loss: 0.5746 - val_accuracy: 0.8867\n"
     ]
    }
   ],
   "source": [
    "# train the network\n",
    "H = model.fit(train_X, train_label, batch_size=BS, epochs=EPOCHS,\n",
    "              verbose=1, validation_data=(valid_X, valid_label))"
   ]
  },
  {
   "cell_type": "code",
   "execution_count": 28,
   "id": "4cd9e78d",
   "metadata": {},
   "outputs": [],
   "source": [
    "model.save(\"model_70_reetiquetat.h5\")"
   ]
  },
  {
   "cell_type": "code",
   "execution_count": 29,
   "id": "6ab77df5",
   "metadata": {},
   "outputs": [
    {
     "name": "stdout",
     "output_type": "stream",
     "text": [
      "Test loss: 0.574600875377655\n",
      "Test accuracy: 0.8866666555404663\n"
     ]
    }
   ],
   "source": [
    "def_model_2 = keras.models.load_model('model_70_reetiquetat.h5')\n",
    "test_eval = def_model_2.evaluate(valid_X,valid_label, verbose=0)\n",
    "\n",
    "print('Test loss:', test_eval[0])\n",
    "print('Test accuracy:', test_eval[1])"
   ]
  },
  {
   "cell_type": "code",
   "execution_count": 30,
   "id": "b1c9e831",
   "metadata": {},
   "outputs": [],
   "source": [
    "predicted_classes = def_model_2.predict(valid_X)\n",
    "predicted_classes = np.argmax(np.round(predicted_classes),axis=1)\n",
    "valid_labels = np.argmax(np.round(valid_label),axis=1)"
   ]
  },
  {
   "cell_type": "code",
   "execution_count": 31,
   "id": "836e75f8",
   "metadata": {},
   "outputs": [
    {
     "data": {
      "image/png": "[encoded data removed]",
      "text/plain": [
       "<Figure size 432x288 with 1 Axes>"
      ]
     },
     "metadata": {
      "needs_background": "light"
     },
     "output_type": "display_data"
    },
    {
     "data": {
      "image/png": "[encoded data removed]",
      "text/plain": [
       "<Figure size 432x288 with 1 Axes>"
      ]
     },
     "metadata": {
      "needs_background": "light"
     },
     "output_type": "display_data"
    }
   ],
   "source": [
    "acc_loss_plot(H)"
   ]
  },
  {
   "cell_type": "code",
   "execution_count": 32,
   "id": "168de70a",
   "metadata": {},
   "outputs": [
    {
     "data": {
      "image/png": "[encoded data removed]",
      "text/plain": [
       "<Figure size 1152x864 with 2 Axes>"
      ]
     },
     "metadata": {
      "needs_background": "light"
     },
     "output_type": "display_data"
    }
   ],
   "source": [
    "plot_confusion_matrix(confusion_matrix(valid_labels, predicted_classes), target_names = classes)"
   ]
  },
  {
   "cell_type": "code",
   "execution_count": 33,
   "id": "2ffed473",
   "metadata": {},
   "outputs": [
    {
     "name": "stdout",
     "output_type": "stream",
     "text": [
      "              precision    recall  f1-score   support\n",
      "\n",
      "   colon_aca       0.83      0.89      0.86        70\n",
      "     colon_n       0.93      0.91      0.92       109\n",
      "    lung_aca       0.90      0.76      0.82        99\n",
      "      lung_n       0.98      0.94      0.96        89\n",
      "    lung_scc       0.79      0.94      0.86        83\n",
      "\n",
      "    accuracy                           0.88       450\n",
      "   macro avg       0.88      0.89      0.88       450\n",
      "weighted avg       0.89      0.88      0.88       450\n",
      "\n"
     ]
    }
   ],
   "source": [
    "target_names = [\"Class {}\".format(i) for i in range(n_classes)]\n",
    "print(classification_report(valid_labels, predicted_classes, target_names=classes))"
   ]
  },
  {
   "cell_type": "markdown",
   "id": "8769cc41",
   "metadata": {},
   "source": [
    "### Comprovem com va classificar el model inicial entrenat amb les dades errònies"
   ]
  },
  {
   "cell_type": "code",
   "execution_count": 34,
   "id": "5e59de06",
   "metadata": {},
   "outputs": [],
   "source": [
    "def_model_original = keras.models.load_model('model_70.h5')"
   ]
  },
  {
   "cell_type": "code",
   "execution_count": 35,
   "id": "9e447bfa",
   "metadata": {},
   "outputs": [],
   "source": [
    "prediction = def_model_original.predict(clean_X)\n",
    "pred_labs_original = []\n",
    "\n",
    "for i in range(len(prediction)):\n",
    "    pred_labs_original.append(np.argmax(prediction[i]))"
   ]
  },
  {
   "cell_type": "code",
   "execution_count": 36,
   "id": "4d4b5b99",
   "metadata": {},
   "outputs": [
    {
     "data": {
      "text/plain": [
       "0.642"
      ]
     },
     "execution_count": 36,
     "metadata": {},
     "output_type": "execute_result"
    }
   ],
   "source": [
    "sum(pred_labs_original == clean_Y)/len(clean_Y)"
   ]
  },
  {
   "cell_type": "markdown",
   "id": "be8aac00",
   "metadata": {},
   "source": [
    "### Comprovem com ho fa el model entrenat amb base de dades petita en la base de dades neta"
   ]
  },
  {
   "cell_type": "code",
   "execution_count": 37,
   "id": "df55a487",
   "metadata": {},
   "outputs": [],
   "source": [
    "prediction = def_model.predict(clean_X)\n",
    "pred_labs_mini = []\n",
    "\n",
    "for i in range(len(prediction)):\n",
    "    pred_labs_mini.append(np.argmax(prediction[i]))"
   ]
  },
  {
   "cell_type": "code",
   "execution_count": 38,
   "id": "11462da3",
   "metadata": {
    "scrolled": true
   },
   "outputs": [
    {
     "data": {
      "text/plain": [
       "0.814"
      ]
     },
     "execution_count": 38,
     "metadata": {},
     "output_type": "execute_result"
    }
   ],
   "source": [
    "sum(pred_labs_mini == clean_Y)/len(clean_Y)"
   ]
  },
  {
   "cell_type": "markdown",
   "id": "eea62806",
   "metadata": {},
   "source": [
    "### Comprovem com ho fa el model entrenat en la base de dades completa amb les reetiquetacions en la base de dades neta"
   ]
  },
  {
   "cell_type": "code",
   "execution_count": 39,
   "id": "5e6c7e2b",
   "metadata": {},
   "outputs": [],
   "source": [
    "prediction = def_model_2.predict(clean_X)\n",
    "pred_labs_reetiquetat = []\n",
    "\n",
    "for i in range(len(prediction)):\n",
    "    pred_labs_reetiquetat.append(np.argmax(prediction[i]))"
   ]
  },
  {
   "cell_type": "code",
   "execution_count": 40,
   "id": "25b64e42",
   "metadata": {
    "scrolled": true
   },
   "outputs": [
    {
     "data": {
      "text/plain": [
       "0.796"
      ]
     },
     "execution_count": 40,
     "metadata": {},
     "output_type": "execute_result"
    }
   ],
   "source": [
    "sum(pred_labs_reetiquetat == clean_Y)/len(clean_Y)"
   ]
  },
  {
   "cell_type": "markdown",
   "id": "f46ed90b",
   "metadata": {},
   "source": [
    "models de teacher student buscar"
   ]
  }
 ],
 "metadata": {
  "accelerator": "TPU",
  "colab": {
   "collapsed_sections": [
    "bright-brisbane",
    "manufactured-begin",
    "intended-professor",
    "divine-diesel",
    "verified-guarantee"
   ],
   "name": "TFG.ipynb",
   "provenance": []
  },
  "kernelspec": {
   "display_name": "Python 3 (ipykernel)",
   "language": "python",
   "name": "python3"
  },
  "language_info": {
   "codemirror_mode": {
    "name": "ipython",
    "version": 3
   },
   "file_extension": ".py",
   "mimetype": "text/x-python",
   "name": "python",
   "nbconvert_exporter": "python",
   "pygments_lexer": "ipython3",
   "version": "3.9.7"
  }
 },
 "nbformat": 4,
 "nbformat_minor": 5
}
